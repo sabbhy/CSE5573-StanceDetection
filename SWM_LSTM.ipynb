{
  "cells": [
    {
      "cell_type": "code",
      "execution_count": 1,
      "metadata": {
        "id": "WAccerZeK-dt"
      },
      "outputs": [],
      "source": [
        "project_path = \"/content/drive/MyDrive/swm/\""
      ]
    },
    {
      "cell_type": "code",
      "execution_count": 2,
      "metadata": {
        "id": "8P9wpb6AOFLx"
      },
      "outputs": [],
      "source": [
        "from zipfile import ZipFile\n",
        "with ZipFile(project_path+'glove.6B.zip', 'r') as z:\n",
        "  z.extractall()"
      ]
    },
    {
      "cell_type": "code",
      "execution_count": 3,
      "metadata": {
        "colab": {
          "base_uri": "https://localhost:8080/"
        },
        "id": "QmR-v5r8OIL-",
        "outputId": "649169bc-1453-4503-8247-be63654d0848"
      },
      "outputs": [
        {
          "output_type": "stream",
          "name": "stderr",
          "text": [
            "[nltk_data] Downloading package punkt to /root/nltk_data...\n",
            "[nltk_data]   Unzipping tokenizers/punkt.zip.\n"
          ]
        }
      ],
      "source": [
        "import pandas as pd\n",
        "import numpy as np\n",
        "import random\n",
        "import nltk\n",
        "nltk.download('punkt')\n",
        "from nltk.tokenize import sent_tokenize\n",
        "\n",
        "from sklearn.model_selection import train_test_split\n",
        "\n",
        "import keras\n",
        "from keras.preprocessing.text import Tokenizer\n",
        "from keras.preprocessing.text import text_to_word_sequence\n",
        "\n",
        "from keras.models import Model\n",
        "from keras.layers import Input, LSTM, Dense, Embedding, TimeDistributed, Activation, Dot, Reshape, Flatten \n",
        "from keras.utils.vis_utils import plot_model"
      ]
    },
    {
      "cell_type": "code",
      "source": [],
      "metadata": {
        "id": "DbMqMSB2FHBe"
      },
      "execution_count": null,
      "outputs": []
    },
    {
      "cell_type": "code",
      "execution_count": 4,
      "metadata": {
        "colab": {
          "base_uri": "https://localhost:8080/",
          "height": 206
        },
        "id": "y5Ssy4MXPLGq",
        "outputId": "fc000134-43f3-49af-d1f3-dae970dea5a0"
      },
      "outputs": [
        {
          "output_type": "execute_result",
          "data": {
            "text/plain": [
              "   Unnamed: 0                                       parent_tweet  \\\n",
              "0           0  Heard that friend was not going to be \"charged...   \n",
              "1           1  Name of Ferguson cop is expected to be release...   \n",
              "2           2  no, radical Muslim extremists are making us vi...   \n",
              "3           3  URGENT:  gunmen involved in deadly attack on C...   \n",
              "4           4  Did anyone think of comparing the clothes that...   \n",
              "\n",
              "                   id classification  \n",
              "0  501760642928635904        comment  \n",
              "1  500270212198174720        comment  \n",
              "2  524971210275565568        comment  \n",
              "3  552836882770690049        comment  \n",
              "4  500289931097296897        support  "
            ],
            "text/html": [
              "\n",
              "  <div id=\"df-e3bc4579-dffe-4c1e-9730-ac53dc2dadfa\">\n",
              "    <div class=\"colab-df-container\">\n",
              "      <div>\n",
              "<style scoped>\n",
              "    .dataframe tbody tr th:only-of-type {\n",
              "        vertical-align: middle;\n",
              "    }\n",
              "\n",
              "    .dataframe tbody tr th {\n",
              "        vertical-align: top;\n",
              "    }\n",
              "\n",
              "    .dataframe thead th {\n",
              "        text-align: right;\n",
              "    }\n",
              "</style>\n",
              "<table border=\"1\" class=\"dataframe\">\n",
              "  <thead>\n",
              "    <tr style=\"text-align: right;\">\n",
              "      <th></th>\n",
              "      <th>Unnamed: 0</th>\n",
              "      <th>parent_tweet</th>\n",
              "      <th>id</th>\n",
              "      <th>classification</th>\n",
              "    </tr>\n",
              "  </thead>\n",
              "  <tbody>\n",
              "    <tr>\n",
              "      <th>0</th>\n",
              "      <td>0</td>\n",
              "      <td>Heard that friend was not going to be \"charged...</td>\n",
              "      <td>501760642928635904</td>\n",
              "      <td>comment</td>\n",
              "    </tr>\n",
              "    <tr>\n",
              "      <th>1</th>\n",
              "      <td>1</td>\n",
              "      <td>Name of Ferguson cop is expected to be release...</td>\n",
              "      <td>500270212198174720</td>\n",
              "      <td>comment</td>\n",
              "    </tr>\n",
              "    <tr>\n",
              "      <th>2</th>\n",
              "      <td>2</td>\n",
              "      <td>no, radical Muslim extremists are making us vi...</td>\n",
              "      <td>524971210275565568</td>\n",
              "      <td>comment</td>\n",
              "    </tr>\n",
              "    <tr>\n",
              "      <th>3</th>\n",
              "      <td>3</td>\n",
              "      <td>URGENT:  gunmen involved in deadly attack on C...</td>\n",
              "      <td>552836882770690049</td>\n",
              "      <td>comment</td>\n",
              "    </tr>\n",
              "    <tr>\n",
              "      <th>4</th>\n",
              "      <td>4</td>\n",
              "      <td>Did anyone think of comparing the clothes that...</td>\n",
              "      <td>500289931097296897</td>\n",
              "      <td>support</td>\n",
              "    </tr>\n",
              "  </tbody>\n",
              "</table>\n",
              "</div>\n",
              "      <button class=\"colab-df-convert\" onclick=\"convertToInteractive('df-e3bc4579-dffe-4c1e-9730-ac53dc2dadfa')\"\n",
              "              title=\"Convert this dataframe to an interactive table.\"\n",
              "              style=\"display:none;\">\n",
              "        \n",
              "  <svg xmlns=\"http://www.w3.org/2000/svg\" height=\"24px\"viewBox=\"0 0 24 24\"\n",
              "       width=\"24px\">\n",
              "    <path d=\"M0 0h24v24H0V0z\" fill=\"none\"/>\n",
              "    <path d=\"M18.56 5.44l.94 2.06.94-2.06 2.06-.94-2.06-.94-.94-2.06-.94 2.06-2.06.94zm-11 1L8.5 8.5l.94-2.06 2.06-.94-2.06-.94L8.5 2.5l-.94 2.06-2.06.94zm10 10l.94 2.06.94-2.06 2.06-.94-2.06-.94-.94-2.06-.94 2.06-2.06.94z\"/><path d=\"M17.41 7.96l-1.37-1.37c-.4-.4-.92-.59-1.43-.59-.52 0-1.04.2-1.43.59L10.3 9.45l-7.72 7.72c-.78.78-.78 2.05 0 2.83L4 21.41c.39.39.9.59 1.41.59.51 0 1.02-.2 1.41-.59l7.78-7.78 2.81-2.81c.8-.78.8-2.07 0-2.86zM5.41 20L4 18.59l7.72-7.72 1.47 1.35L5.41 20z\"/>\n",
              "  </svg>\n",
              "      </button>\n",
              "      \n",
              "  <style>\n",
              "    .colab-df-container {\n",
              "      display:flex;\n",
              "      flex-wrap:wrap;\n",
              "      gap: 12px;\n",
              "    }\n",
              "\n",
              "    .colab-df-convert {\n",
              "      background-color: #E8F0FE;\n",
              "      border: none;\n",
              "      border-radius: 50%;\n",
              "      cursor: pointer;\n",
              "      display: none;\n",
              "      fill: #1967D2;\n",
              "      height: 32px;\n",
              "      padding: 0 0 0 0;\n",
              "      width: 32px;\n",
              "    }\n",
              "\n",
              "    .colab-df-convert:hover {\n",
              "      background-color: #E2EBFA;\n",
              "      box-shadow: 0px 1px 2px rgba(60, 64, 67, 0.3), 0px 1px 3px 1px rgba(60, 64, 67, 0.15);\n",
              "      fill: #174EA6;\n",
              "    }\n",
              "\n",
              "    [theme=dark] .colab-df-convert {\n",
              "      background-color: #3B4455;\n",
              "      fill: #D2E3FC;\n",
              "    }\n",
              "\n",
              "    [theme=dark] .colab-df-convert:hover {\n",
              "      background-color: #434B5C;\n",
              "      box-shadow: 0px 1px 3px 1px rgba(0, 0, 0, 0.15);\n",
              "      filter: drop-shadow(0px 1px 2px rgba(0, 0, 0, 0.3));\n",
              "      fill: #FFFFFF;\n",
              "    }\n",
              "  </style>\n",
              "\n",
              "      <script>\n",
              "        const buttonEl =\n",
              "          document.querySelector('#df-e3bc4579-dffe-4c1e-9730-ac53dc2dadfa button.colab-df-convert');\n",
              "        buttonEl.style.display =\n",
              "          google.colab.kernel.accessAllowed ? 'block' : 'none';\n",
              "\n",
              "        async function convertToInteractive(key) {\n",
              "          const element = document.querySelector('#df-e3bc4579-dffe-4c1e-9730-ac53dc2dadfa');\n",
              "          const dataTable =\n",
              "            await google.colab.kernel.invokeFunction('convertToInteractive',\n",
              "                                                     [key], {});\n",
              "          if (!dataTable) return;\n",
              "\n",
              "          const docLinkHtml = 'Like what you see? Visit the ' +\n",
              "            '<a target=\"_blank\" href=https://colab.research.google.com/notebooks/data_table.ipynb>data table notebook</a>'\n",
              "            + ' to learn more about interactive tables.';\n",
              "          element.innerHTML = '';\n",
              "          dataTable['output_type'] = 'display_data';\n",
              "          await google.colab.output.renderOutput(dataTable, element);\n",
              "          const docLink = document.createElement('div');\n",
              "          docLink.innerHTML = docLinkHtml;\n",
              "          element.appendChild(docLink);\n",
              "        }\n",
              "      </script>\n",
              "    </div>\n",
              "  </div>\n",
              "  "
            ]
          },
          "metadata": {},
          "execution_count": 4
        }
      ],
      "source": [
        "train_bodies = pd.read_csv(project_path+'train_body.csv')\n",
        "train_bodies.head()\n",
        "train_stances = pd.read_csv(project_path+'train_stance.csv')\n",
        "train_stances.head()"
      ]
    },
    {
      "cell_type": "code",
      "execution_count": 5,
      "metadata": {
        "colab": {
          "base_uri": "https://localhost:8080/",
          "height": 424
        },
        "id": "K6PRlCFAR8iB",
        "outputId": "8d714ab4-2fcc-4f49-afc0-6956a0751985"
      },
      "outputs": [
        {
          "output_type": "execute_result",
          "data": {
            "text/plain": [
              "     Unnamed: 0_x                  id  \\\n",
              "0               0  501760642928635904   \n",
              "1               1  500270212198174720   \n",
              "2               2  524971210275565568   \n",
              "3               3  552836882770690049   \n",
              "4               4  500289931097296897   \n",
              "..            ...                 ...   \n",
              "495           495  552833887261691905   \n",
              "496           496  544295112545538048   \n",
              "497           497  544763686858944512   \n",
              "498           498  553545342055354368   \n",
              "499           499  553511652587360256   \n",
              "\n",
              "                                                 tweet  Unnamed: 0_y  \\\n",
              "0    This shows Michael paid for cigarillos. No rob...             0   \n",
              "1    Get ready to tweet the address SpikeLee and ot...             1   \n",
              "2    your radical Muslims are being funded by Ameri...             2   \n",
              "3                                      Just kill them.             3   \n",
              "4    no, because that would require reasoning and t...             4   \n",
              "..                                                 ...           ...   \n",
              "495  OK  Drills Since  Where Drill = Actual Terrori...           495   \n",
              "496  “TheAnonMessage: FIRST PHOTOS: Hostage pressed...           496   \n",
              "497  “chookelini: no way he's a right wing extremist”            497   \n",
              "498  MT French police publish photos of suspect in ...           498   \n",
              "499               Media have surrounded this building.           499   \n",
              "\n",
              "                                          parent_tweet classification  \n",
              "0    Heard that friend was not going to be \"charged...        comment  \n",
              "1    Name of Ferguson cop is expected to be release...        comment  \n",
              "2    no, radical Muslim extremists are making us vi...        comment  \n",
              "3    URGENT:  gunmen involved in deadly attack on C...        comment  \n",
              "4    Did anyone think of comparing the clothes that...        support  \n",
              "..                                                 ...            ...  \n",
              "495  URGENT:  gunmen involved in deadly attack on C...        comment  \n",
              "496  FIRST PHOTOS: Hostage pressed against a window...        comment  \n",
              "497                 no way he's a right wing extremist        comment  \n",
              "498  French police publishes photos of suspect in y...        support  \n",
              "499  Police have surrounded this building where the...        support  \n",
              "\n",
              "[500 rows x 6 columns]"
            ],
            "text/html": [
              "\n",
              "  <div id=\"df-94337449-72fe-478f-a616-7739d3955b75\">\n",
              "    <div class=\"colab-df-container\">\n",
              "      <div>\n",
              "<style scoped>\n",
              "    .dataframe tbody tr th:only-of-type {\n",
              "        vertical-align: middle;\n",
              "    }\n",
              "\n",
              "    .dataframe tbody tr th {\n",
              "        vertical-align: top;\n",
              "    }\n",
              "\n",
              "    .dataframe thead th {\n",
              "        text-align: right;\n",
              "    }\n",
              "</style>\n",
              "<table border=\"1\" class=\"dataframe\">\n",
              "  <thead>\n",
              "    <tr style=\"text-align: right;\">\n",
              "      <th></th>\n",
              "      <th>Unnamed: 0_x</th>\n",
              "      <th>id</th>\n",
              "      <th>tweet</th>\n",
              "      <th>Unnamed: 0_y</th>\n",
              "      <th>parent_tweet</th>\n",
              "      <th>classification</th>\n",
              "    </tr>\n",
              "  </thead>\n",
              "  <tbody>\n",
              "    <tr>\n",
              "      <th>0</th>\n",
              "      <td>0</td>\n",
              "      <td>501760642928635904</td>\n",
              "      <td>This shows Michael paid for cigarillos. No rob...</td>\n",
              "      <td>0</td>\n",
              "      <td>Heard that friend was not going to be \"charged...</td>\n",
              "      <td>comment</td>\n",
              "    </tr>\n",
              "    <tr>\n",
              "      <th>1</th>\n",
              "      <td>1</td>\n",
              "      <td>500270212198174720</td>\n",
              "      <td>Get ready to tweet the address SpikeLee and ot...</td>\n",
              "      <td>1</td>\n",
              "      <td>Name of Ferguson cop is expected to be release...</td>\n",
              "      <td>comment</td>\n",
              "    </tr>\n",
              "    <tr>\n",
              "      <th>2</th>\n",
              "      <td>2</td>\n",
              "      <td>524971210275565568</td>\n",
              "      <td>your radical Muslims are being funded by Ameri...</td>\n",
              "      <td>2</td>\n",
              "      <td>no, radical Muslim extremists are making us vi...</td>\n",
              "      <td>comment</td>\n",
              "    </tr>\n",
              "    <tr>\n",
              "      <th>3</th>\n",
              "      <td>3</td>\n",
              "      <td>552836882770690049</td>\n",
              "      <td>Just kill them.</td>\n",
              "      <td>3</td>\n",
              "      <td>URGENT:  gunmen involved in deadly attack on C...</td>\n",
              "      <td>comment</td>\n",
              "    </tr>\n",
              "    <tr>\n",
              "      <th>4</th>\n",
              "      <td>4</td>\n",
              "      <td>500289931097296897</td>\n",
              "      <td>no, because that would require reasoning and t...</td>\n",
              "      <td>4</td>\n",
              "      <td>Did anyone think of comparing the clothes that...</td>\n",
              "      <td>support</td>\n",
              "    </tr>\n",
              "    <tr>\n",
              "      <th>...</th>\n",
              "      <td>...</td>\n",
              "      <td>...</td>\n",
              "      <td>...</td>\n",
              "      <td>...</td>\n",
              "      <td>...</td>\n",
              "      <td>...</td>\n",
              "    </tr>\n",
              "    <tr>\n",
              "      <th>495</th>\n",
              "      <td>495</td>\n",
              "      <td>552833887261691905</td>\n",
              "      <td>OK  Drills Since  Where Drill = Actual Terrori...</td>\n",
              "      <td>495</td>\n",
              "      <td>URGENT:  gunmen involved in deadly attack on C...</td>\n",
              "      <td>comment</td>\n",
              "    </tr>\n",
              "    <tr>\n",
              "      <th>496</th>\n",
              "      <td>496</td>\n",
              "      <td>544295112545538048</td>\n",
              "      <td>“TheAnonMessage: FIRST PHOTOS: Hostage pressed...</td>\n",
              "      <td>496</td>\n",
              "      <td>FIRST PHOTOS: Hostage pressed against a window...</td>\n",
              "      <td>comment</td>\n",
              "    </tr>\n",
              "    <tr>\n",
              "      <th>497</th>\n",
              "      <td>497</td>\n",
              "      <td>544763686858944512</td>\n",
              "      <td>“chookelini: no way he's a right wing extremist”</td>\n",
              "      <td>497</td>\n",
              "      <td>no way he's a right wing extremist</td>\n",
              "      <td>comment</td>\n",
              "    </tr>\n",
              "    <tr>\n",
              "      <th>498</th>\n",
              "      <td>498</td>\n",
              "      <td>553545342055354368</td>\n",
              "      <td>MT French police publish photos of suspect in ...</td>\n",
              "      <td>498</td>\n",
              "      <td>French police publishes photos of suspect in y...</td>\n",
              "      <td>support</td>\n",
              "    </tr>\n",
              "    <tr>\n",
              "      <th>499</th>\n",
              "      <td>499</td>\n",
              "      <td>553511652587360256</td>\n",
              "      <td>Media have surrounded this building.</td>\n",
              "      <td>499</td>\n",
              "      <td>Police have surrounded this building where the...</td>\n",
              "      <td>support</td>\n",
              "    </tr>\n",
              "  </tbody>\n",
              "</table>\n",
              "<p>500 rows × 6 columns</p>\n",
              "</div>\n",
              "      <button class=\"colab-df-convert\" onclick=\"convertToInteractive('df-94337449-72fe-478f-a616-7739d3955b75')\"\n",
              "              title=\"Convert this dataframe to an interactive table.\"\n",
              "              style=\"display:none;\">\n",
              "        \n",
              "  <svg xmlns=\"http://www.w3.org/2000/svg\" height=\"24px\"viewBox=\"0 0 24 24\"\n",
              "       width=\"24px\">\n",
              "    <path d=\"M0 0h24v24H0V0z\" fill=\"none\"/>\n",
              "    <path d=\"M18.56 5.44l.94 2.06.94-2.06 2.06-.94-2.06-.94-.94-2.06-.94 2.06-2.06.94zm-11 1L8.5 8.5l.94-2.06 2.06-.94-2.06-.94L8.5 2.5l-.94 2.06-2.06.94zm10 10l.94 2.06.94-2.06 2.06-.94-2.06-.94-.94-2.06-.94 2.06-2.06.94z\"/><path d=\"M17.41 7.96l-1.37-1.37c-.4-.4-.92-.59-1.43-.59-.52 0-1.04.2-1.43.59L10.3 9.45l-7.72 7.72c-.78.78-.78 2.05 0 2.83L4 21.41c.39.39.9.59 1.41.59.51 0 1.02-.2 1.41-.59l7.78-7.78 2.81-2.81c.8-.78.8-2.07 0-2.86zM5.41 20L4 18.59l7.72-7.72 1.47 1.35L5.41 20z\"/>\n",
              "  </svg>\n",
              "      </button>\n",
              "      \n",
              "  <style>\n",
              "    .colab-df-container {\n",
              "      display:flex;\n",
              "      flex-wrap:wrap;\n",
              "      gap: 12px;\n",
              "    }\n",
              "\n",
              "    .colab-df-convert {\n",
              "      background-color: #E8F0FE;\n",
              "      border: none;\n",
              "      border-radius: 50%;\n",
              "      cursor: pointer;\n",
              "      display: none;\n",
              "      fill: #1967D2;\n",
              "      height: 32px;\n",
              "      padding: 0 0 0 0;\n",
              "      width: 32px;\n",
              "    }\n",
              "\n",
              "    .colab-df-convert:hover {\n",
              "      background-color: #E2EBFA;\n",
              "      box-shadow: 0px 1px 2px rgba(60, 64, 67, 0.3), 0px 1px 3px 1px rgba(60, 64, 67, 0.15);\n",
              "      fill: #174EA6;\n",
              "    }\n",
              "\n",
              "    [theme=dark] .colab-df-convert {\n",
              "      background-color: #3B4455;\n",
              "      fill: #D2E3FC;\n",
              "    }\n",
              "\n",
              "    [theme=dark] .colab-df-convert:hover {\n",
              "      background-color: #434B5C;\n",
              "      box-shadow: 0px 1px 3px 1px rgba(0, 0, 0, 0.15);\n",
              "      filter: drop-shadow(0px 1px 2px rgba(0, 0, 0, 0.3));\n",
              "      fill: #FFFFFF;\n",
              "    }\n",
              "  </style>\n",
              "\n",
              "      <script>\n",
              "        const buttonEl =\n",
              "          document.querySelector('#df-94337449-72fe-478f-a616-7739d3955b75 button.colab-df-convert');\n",
              "        buttonEl.style.display =\n",
              "          google.colab.kernel.accessAllowed ? 'block' : 'none';\n",
              "\n",
              "        async function convertToInteractive(key) {\n",
              "          const element = document.querySelector('#df-94337449-72fe-478f-a616-7739d3955b75');\n",
              "          const dataTable =\n",
              "            await google.colab.kernel.invokeFunction('convertToInteractive',\n",
              "                                                     [key], {});\n",
              "          if (!dataTable) return;\n",
              "\n",
              "          const docLinkHtml = 'Like what you see? Visit the ' +\n",
              "            '<a target=\"_blank\" href=https://colab.research.google.com/notebooks/data_table.ipynb>data table notebook</a>'\n",
              "            + ' to learn more about interactive tables.';\n",
              "          element.innerHTML = '';\n",
              "          dataTable['output_type'] = 'display_data';\n",
              "          await google.colab.output.renderOutput(dataTable, element);\n",
              "          const docLink = document.createElement('div');\n",
              "          docLink.innerHTML = docLinkHtml;\n",
              "          element.appendChild(docLink);\n",
              "        }\n",
              "      </script>\n",
              "    </div>\n",
              "  </div>\n",
              "  "
            ]
          },
          "metadata": {},
          "execution_count": 5
        }
      ],
      "source": [
        "\n",
        "dataset = pd.merge(left=train_bodies, right=train_stances, left_on='id', right_on='id')\n",
        "dataset.head(500)"
      ]
    },
    {
      "cell_type": "code",
      "execution_count": 6,
      "metadata": {
        "colab": {
          "base_uri": "https://localhost:8080/"
        },
        "id": "mQt_N9-2RaPL",
        "outputId": "89b72a83-f735-4495-da3b-95d0400982e7"
      },
      "outputs": [
        {
          "output_type": "stream",
          "name": "stdout",
          "text": [
            "      Unnamed: 0_x                  id  \\\n",
            "0                0  501760642928635904   \n",
            "1                1  500270212198174720   \n",
            "2                2  524971210275565568   \n",
            "3                3  552836882770690049   \n",
            "4                4  500289931097296897   \n",
            "...            ...                 ...   \n",
            "3959          3959  553505863827079168   \n",
            "3960          3960  544284128615473152   \n",
            "3961          3961  500302889429241856   \n",
            "3962          3962  544293668513792000   \n",
            "3963          3963  500320873086476288   \n",
            "\n",
            "                                                  tweet  Unnamed: 0_y  \\\n",
            "0     This shows Michael paid for cigarillos. No rob...             0   \n",
            "1     Get ready to tweet the address SpikeLee and ot...             1   \n",
            "2     your radical Muslims are being funded by Ameri...             2   \n",
            "3                                       Just kill them.             3   \n",
            "4     no, because that would require reasoning and t...             4   \n",
            "...                                                 ...           ...   \n",
            "3959  who gave them thinking of martyr? Those contin...          3959   \n",
            "3960  wtf fuk u Islamic state suck my dick with baco...          3960   \n",
            "3961  Alasscan it's a lie. Pics are fake. No robbery...          3961   \n",
            "3962  Sure hope it's not just some dude and that you...          3962   \n",
            "3963  it is! I both argued that the Supreme Court wa...          3963   \n",
            "\n",
            "                                           parent_tweet classification  \n",
            "0     Heard that friend was not going to be \"charged...        comment  \n",
            "1     Name of Ferguson cop is expected to be release...        comment  \n",
            "2     no, radical Muslim extremists are making us vi...        comment  \n",
            "3     URGENT:  gunmen involved in deadly attack on C...        comment  \n",
            "4     Did anyone think of comparing the clothes that...        support  \n",
            "...                                                 ...            ...  \n",
            "3959  CharlieHebdo shooting suspects tell police the...        comment  \n",
            "3960  BREAKING NEWS: Gunmen take hostages at Sydney ...        comment  \n",
            "3961  There are pics of \"strong arm robbery\" clothin...        support  \n",
            "3962  According to Seven, this is a picture of the g...        comment  \n",
            "3963                    That's two different arguments.        comment  \n",
            "\n",
            "[3964 rows x 6 columns]\n"
          ]
        }
      ],
      "source": [
        "print(dataset)"
      ]
    },
    {
      "cell_type": "code",
      "execution_count": 7,
      "metadata": {
        "id": "TYkPAe5GSY_G"
      },
      "outputs": [],
      "source": [
        "MAX_NB_WORDS = 20000\n",
        "MAX_SENTS = 20\n",
        "MAX_SENTS_HEADING = 1\n",
        "MAX_SENT_LENGTH = 20\n",
        "VALIDATION_SPLIT = 0.2"
      ]
    },
    {
      "cell_type": "code",
      "execution_count": 8,
      "metadata": {
        "id": "6TutxJRfSjeF"
      },
      "outputs": [],
      "source": [
        "t = Tokenizer(num_words=MAX_NB_WORDS)"
      ]
    },
    {
      "cell_type": "code",
      "execution_count": 9,
      "metadata": {
        "colab": {
          "base_uri": "https://localhost:8080/"
        },
        "id": "YwYbu4rBSlJs",
        "outputId": "bff4c427-29de-4afe-fde5-90900e2e5c25"
      },
      "outputs": [
        {
          "output_type": "execute_result",
          "data": {
            "text/plain": [
              "6514"
            ]
          },
          "metadata": {},
          "execution_count": 9
        }
      ],
      "source": [
        "t.fit_on_texts(dataset['tweet'].astype(str))\n",
        "t.fit_on_texts(dataset['parent_tweet'].astype(str))\n",
        "vocab_size = len(t.word_index.items())\n",
        "vocab_size"
      ]
    },
    {
      "cell_type": "code",
      "execution_count": 10,
      "metadata": {
        "colab": {
          "base_uri": "https://localhost:8080/"
        },
        "id": "qiCF0xZ1JKUd",
        "outputId": "b57e1c43-281e-4cf3-8e3b-e37b5a4dcf74"
      },
      "outputs": [
        {
          "output_type": "stream",
          "name": "stdout",
          "text": [
            "777\n"
          ]
        }
      ],
      "source": [
        "print(t.word_index['possible'])"
      ]
    },
    {
      "cell_type": "code",
      "execution_count": 11,
      "metadata": {
        "colab": {
          "base_uri": "https://localhost:8080/",
          "height": 36
        },
        "id": "EYLGQyhNJcTM",
        "outputId": "9705b8ca-0a5a-4845-9e28-13cb247f3383"
      },
      "outputs": [
        {
          "output_type": "execute_result",
          "data": {
            "text/plain": [
              "'This shows Michael paid for cigarillos. No robbery, no crime! Pls RT'"
            ],
            "application/vnd.google.colaboratory.intrinsic+json": {
              "type": "string"
            }
          },
          "metadata": {},
          "execution_count": 11
        }
      ],
      "source": [
        "\n",
        "texts = dataset['tweet']\n",
        "texts[0]"
      ]
    },
    {
      "cell_type": "code",
      "execution_count": 12,
      "metadata": {
        "id": "Q3NjYajhJoe_"
      },
      "outputs": [],
      "source": [
        "\n",
        "articles = ['' for i in range(len(texts))]\n",
        "\n",
        "# initialize\n",
        "rows = len(texts)\n",
        "cols = MAX_SENTS\n",
        "articles_sent = [ ([''] * cols) for row in range(rows) ] # initialize 2d list"
      ]
    },
    {
      "cell_type": "code",
      "execution_count": 13,
      "metadata": {
        "id": "Vwn0eKt7JsVp"
      },
      "outputs": [],
      "source": [
        "# Sentences are populated\n",
        "for i in range(len(texts)):\n",
        "  articles[i] = sent_tokenize(str(texts[i]))\n",
        "  j=0\n",
        "  for sentence in articles[i]:\n",
        "    articles_sent[i][j] = sentence\n",
        "    j = j+1\n",
        "    if j == 20: break"
      ]
    },
    {
      "cell_type": "code",
      "execution_count": 14,
      "metadata": {
        "colab": {
          "base_uri": "https://localhost:8080/",
          "height": 36
        },
        "id": "RMSU0zdDKp8t",
        "outputId": "2ec22716-bfd4-46bd-a99a-5f233cbf4f11"
      },
      "outputs": [
        {
          "output_type": "execute_result",
          "data": {
            "text/plain": [
              "'This shows Michael paid for cigarillos.'"
            ],
            "application/vnd.google.colaboratory.intrinsic+json": {
              "type": "string"
            }
          },
          "metadata": {},
          "execution_count": 14
        }
      ],
      "source": [
        "\n",
        "articles_sent[0][0]"
      ]
    },
    {
      "cell_type": "code",
      "execution_count": 15,
      "metadata": {
        "colab": {
          "base_uri": "https://localhost:8080/"
        },
        "id": "wMyERoy-K1dV",
        "outputId": "eb112545-4df3-450e-849d-e02092a9e9bc"
      },
      "outputs": [
        {
          "output_type": "execute_result",
          "data": {
            "text/plain": [
              "['This shows Michael paid for cigarillos.', 'No robbery, no crime!', 'Pls RT']"
            ]
          },
          "metadata": {},
          "execution_count": 15
        }
      ],
      "source": [
        "articles[0]"
      ]
    },
    {
      "cell_type": "code",
      "execution_count": 16,
      "metadata": {
        "colab": {
          "base_uri": "https://localhost:8080/"
        },
        "id": "Mb7KwMvaUVoD",
        "outputId": "43fb88f9-c9d2-4d6f-acbd-26ca9e68505f"
      },
      "outputs": [
        {
          "output_type": "execute_result",
          "data": {
            "text/plain": [
              "(3964, 20, 20)"
            ]
          },
          "metadata": {},
          "execution_count": 16
        }
      ],
      "source": [
        "# Initialize data \n",
        "data = np.zeros((len(articles), MAX_SENTS, MAX_SENT_LENGTH), dtype=int)\n",
        "data.shape"
      ]
    },
    {
      "cell_type": "code",
      "execution_count": 17,
      "metadata": {
        "id": "nvuNBKtdUZqG"
      },
      "outputs": [],
      "source": [
        "# Populate 3d array - iterating through the words in each sentence, and sentences in each article.\n",
        "i=0\n",
        "j=0\n",
        "k=0\n",
        "\n",
        "for i in range(len(articles)):\n",
        "  for j in range(len(articles_sent[i])):\n",
        "    result = text_to_word_sequence(''.join(articles_sent[i][j]))\n",
        "    if j==19: break\n",
        "    for k in range(len(result)):\n",
        "        data[i][j][k] = t.word_index[result[k]]\n",
        "        if k==19: break"
      ]
    },
    {
      "cell_type": "code",
      "execution_count": 18,
      "metadata": {
        "colab": {
          "base_uri": "https://localhost:8080/"
        },
        "id": "4EeYUxXFUmTk",
        "outputId": "a0baa630-7f6f-484e-d7e2-29cc402a2f6a"
      },
      "outputs": [
        {
          "output_type": "execute_result",
          "data": {
            "text/plain": [
              "array([[  20,  283,  116,  911,   13, 1928,    0,    0,    0,    0,    0,\n",
              "           0,    0,    0,    0,    0,    0,    0,    0,    0],\n",
              "       [  32,   45,   32,  346,    0,    0,    0,    0,    0,    0,    0,\n",
              "           0,    0,    0,    0,    0,    0,    0,    0,    0],\n",
              "       [2515,  127,    0,    0,    0,    0,    0,    0,    0,    0,    0,\n",
              "           0,    0,    0,    0,    0,    0,    0,    0,    0],\n",
              "       [   0,    0,    0,    0,    0,    0,    0,    0,    0,    0,    0,\n",
              "           0,    0,    0,    0,    0,    0,    0,    0,    0],\n",
              "       [   0,    0,    0,    0,    0,    0,    0,    0,    0,    0,    0,\n",
              "           0,    0,    0,    0,    0,    0,    0,    0,    0],\n",
              "       [   0,    0,    0,    0,    0,    0,    0,    0,    0,    0,    0,\n",
              "           0,    0,    0,    0,    0,    0,    0,    0,    0],\n",
              "       [   0,    0,    0,    0,    0,    0,    0,    0,    0,    0,    0,\n",
              "           0,    0,    0,    0,    0,    0,    0,    0,    0],\n",
              "       [   0,    0,    0,    0,    0,    0,    0,    0,    0,    0,    0,\n",
              "           0,    0,    0,    0,    0,    0,    0,    0,    0],\n",
              "       [   0,    0,    0,    0,    0,    0,    0,    0,    0,    0,    0,\n",
              "           0,    0,    0,    0,    0,    0,    0,    0,    0],\n",
              "       [   0,    0,    0,    0,    0,    0,    0,    0,    0,    0,    0,\n",
              "           0,    0,    0,    0,    0,    0,    0,    0,    0],\n",
              "       [   0,    0,    0,    0,    0,    0,    0,    0,    0,    0,    0,\n",
              "           0,    0,    0,    0,    0,    0,    0,    0,    0],\n",
              "       [   0,    0,    0,    0,    0,    0,    0,    0,    0,    0,    0,\n",
              "           0,    0,    0,    0,    0,    0,    0,    0,    0],\n",
              "       [   0,    0,    0,    0,    0,    0,    0,    0,    0,    0,    0,\n",
              "           0,    0,    0,    0,    0,    0,    0,    0,    0],\n",
              "       [   0,    0,    0,    0,    0,    0,    0,    0,    0,    0,    0,\n",
              "           0,    0,    0,    0,    0,    0,    0,    0,    0],\n",
              "       [   0,    0,    0,    0,    0,    0,    0,    0,    0,    0,    0,\n",
              "           0,    0,    0,    0,    0,    0,    0,    0,    0],\n",
              "       [   0,    0,    0,    0,    0,    0,    0,    0,    0,    0,    0,\n",
              "           0,    0,    0,    0,    0,    0,    0,    0,    0],\n",
              "       [   0,    0,    0,    0,    0,    0,    0,    0,    0,    0,    0,\n",
              "           0,    0,    0,    0,    0,    0,    0,    0,    0],\n",
              "       [   0,    0,    0,    0,    0,    0,    0,    0,    0,    0,    0,\n",
              "           0,    0,    0,    0,    0,    0,    0,    0,    0],\n",
              "       [   0,    0,    0,    0,    0,    0,    0,    0,    0,    0,    0,\n",
              "           0,    0,    0,    0,    0,    0,    0,    0,    0],\n",
              "       [   0,    0,    0,    0,    0,    0,    0,    0,    0,    0,    0,\n",
              "           0,    0,    0,    0,    0,    0,    0,    0,    0]])"
            ]
          },
          "metadata": {},
          "execution_count": 18
        }
      ],
      "source": [
        "data[0, :, :]"
      ]
    },
    {
      "cell_type": "code",
      "execution_count": 19,
      "metadata": {
        "colab": {
          "base_uri": "https://localhost:8080/",
          "height": 36
        },
        "id": "YZ2xRpsWUoCH",
        "outputId": "d0fd79f8-2644-414d-c1b5-7a94f6eebf5c"
      },
      "outputs": [
        {
          "output_type": "execute_result",
          "data": {
            "text/plain": [
              "'Heard that friend was not going to be \"charged\" in any robbery since video shows it was other person'"
            ],
            "application/vnd.google.colaboratory.intrinsic+json": {
              "type": "string"
            }
          },
          "metadata": {},
          "execution_count": 19
        }
      ],
      "source": [
        "# Populate text heading\n",
        "texts_heading = dataset['parent_tweet']\n",
        "texts_heading[0]"
      ]
    },
    {
      "cell_type": "code",
      "execution_count": 20,
      "metadata": {
        "id": "6vl49-_PU1rc"
      },
      "outputs": [],
      "source": [
        "# Initialize heading array \n",
        "articles_heading = ['' for i in range(len(texts_heading))]\n",
        "\n",
        "# initialize 2d list for heading sentences\n",
        "rows = len(texts)\n",
        "cols = MAX_SENTS_HEADING\n",
        "articles_heading_sent = [ ([''] * cols) for row in range(rows) ] # initialize 2d list"
      ]
    },
    {
      "cell_type": "code",
      "execution_count": 21,
      "metadata": {
        "id": "KG-DPAb0U3xj"
      },
      "outputs": [],
      "source": [
        "# Separate heading sentences \n",
        "for i in range(len(texts_heading)):\n",
        "  articles_heading[i] = sent_tokenize(str(texts_heading[i]))\n",
        "  j=0  \n",
        "  for sentence in articles_heading[i]:\n",
        "    articles_heading_sent[i][j] = sentence"
      ]
    },
    {
      "cell_type": "code",
      "execution_count": 22,
      "metadata": {
        "colab": {
          "base_uri": "https://localhost:8080/",
          "height": 36
        },
        "id": "Jvem-3NIU-8P",
        "outputId": "1eced64a-5094-4a61-b1d3-c41affd95c2e"
      },
      "outputs": [
        {
          "output_type": "execute_result",
          "data": {
            "text/plain": [
              "'Police have surrounded this building where the suspected CharlieHebdo attackers are holed-up'"
            ],
            "application/vnd.google.colaboratory.intrinsic+json": {
              "type": "string"
            }
          },
          "metadata": {},
          "execution_count": 22
        }
      ],
      "source": [
        "# Check if heading sentence populated correctly \n",
        "articles_heading_sent[499][0]"
      ]
    },
    {
      "cell_type": "code",
      "execution_count": 23,
      "metadata": {
        "colab": {
          "base_uri": "https://localhost:8080/"
        },
        "id": "bWkXvjbXVED4",
        "outputId": "ffcdab4d-ef8e-46cb-a22d-adb65a90d5ba"
      },
      "outputs": [
        {
          "output_type": "execute_result",
          "data": {
            "text/plain": [
              "(3964, 1, 20)"
            ]
          },
          "metadata": {},
          "execution_count": 23
        }
      ],
      "source": [
        "# Initialize data heading \n",
        "data_heading = np.zeros((len(articles_heading), MAX_SENTS_HEADING, MAX_SENT_LENGTH), dtype=int)\n",
        "data_heading.shape"
      ]
    },
    {
      "cell_type": "code",
      "execution_count": 24,
      "metadata": {
        "id": "NxjPL_2eVGCx"
      },
      "outputs": [],
      "source": [
        "# Populate 3d array - iterating through the words in each sentence, and sentences in each heading.\n",
        "i=0\n",
        "j=0\n",
        "k=0\n",
        "for i in range(len(articles_heading)):\n",
        "  for j in range(len(articles_heading_sent[i])):\n",
        "    result = text_to_word_sequence(''.join(articles_heading_sent[i][j]))\n",
        "    for k in range(len(result)):\n",
        "      data_heading[i][j][k] = t.word_index[result[k]]\n",
        "      if k==19: break"
      ]
    },
    {
      "cell_type": "code",
      "execution_count": 25,
      "metadata": {
        "colab": {
          "base_uri": "https://localhost:8080/"
        },
        "id": "5os0Eye4VIMP",
        "outputId": "aee8cbb6-176e-4d37-dafd-0d660592f9b9"
      },
      "outputs": [
        {
          "output_type": "execute_result",
          "data": {
            "text/plain": [
              "array([[312,  10, 697,  14,  18, 390,   3,  24, 266,   2, 174,  45, 626,\n",
              "        125, 283,  19,  14, 185, 180,   0]])"
            ]
          },
          "metadata": {},
          "execution_count": 25
        }
      ],
      "source": [
        "data_heading[0, :, :]"
      ]
    },
    {
      "cell_type": "code",
      "execution_count": 26,
      "metadata": {
        "colab": {
          "base_uri": "https://localhost:8080/",
          "height": 36
        },
        "id": "j6HGndG5VL-L",
        "outputId": "b210602f-3ced-4955-ed29-0b54eca3ea3a"
      },
      "outputs": [
        {
          "output_type": "execute_result",
          "data": {
            "text/plain": [
              "'support'"
            ],
            "application/vnd.google.colaboratory.intrinsic+json": {
              "type": "string"
            }
          },
          "metadata": {},
          "execution_count": 26
        }
      ],
      "source": [
        "# Load stance data from main dataset \n",
        "stance = dataset['classification']\n",
        "stance[499]"
      ]
    },
    {
      "cell_type": "code",
      "execution_count": 27,
      "metadata": {
        "id": "ehtpeqyqVSr3"
      },
      "outputs": [],
      "source": [
        "# Populate labels as array \n",
        "labels = np.asarray(pd.get_dummies(stance))"
      ]
    },
    {
      "cell_type": "code",
      "execution_count": 28,
      "metadata": {
        "colab": {
          "base_uri": "https://localhost:8080/"
        },
        "id": "7mVJScS3V0Kj",
        "outputId": "b96d5525-8899-4d08-f535-4b3dfbe54db8"
      },
      "outputs": [
        {
          "output_type": "stream",
          "name": "stdout",
          "text": [
            "Shape of data tensor: (3964, 20, 20)\n",
            "Shape of data heading tensor: (3964, 1, 20)\n",
            "Shape of label tensor: (3964, 4)\n"
          ]
        }
      ],
      "source": [
        "# Check shapes of data, data heading and labels arrays \n",
        "print('Shape of data tensor:', data.shape)\n",
        "print('Shape of data heading tensor:', data_heading.shape)\n",
        "print('Shape of label tensor:', labels.shape)"
      ]
    },
    {
      "cell_type": "code",
      "execution_count": 29,
      "metadata": {
        "colab": {
          "base_uri": "https://localhost:8080/"
        },
        "id": "Og9NgGMJV57v",
        "outputId": "4ff7d168-9921-4c50-84fb-3449521bbdc0"
      },
      "outputs": [
        {
          "output_type": "stream",
          "name": "stdout",
          "text": [
            "[0 0 0 1]\n"
          ]
        }
      ],
      "source": [
        "# Check one sample one-hot encoded label \n",
        "print(labels[499][:])"
      ]
    },
    {
      "cell_type": "code",
      "execution_count": 30,
      "metadata": {
        "id": "_Msyf24IV7iS"
      },
      "outputs": [],
      "source": [
        "## get numbers upto no.of articles\n",
        "indices = np.arange(data.shape[0])\n",
        "## shuffle the numbers\n",
        "np.random.shuffle(indices)"
      ]
    },
    {
      "cell_type": "code",
      "execution_count": 31,
      "metadata": {
        "id": "YOcCCleBV8oz"
      },
      "outputs": [],
      "source": [
        "## shuffle the data\n",
        "data = data[indices]\n",
        "data_heading = data_heading[indices]\n",
        "## shuffle the labels according to data\n",
        "labels = labels[indices]"
      ]
    },
    {
      "cell_type": "code",
      "execution_count": 32,
      "metadata": {
        "id": "RDhK7SsoWBFq"
      },
      "outputs": [],
      "source": [
        "# Split in train and test for articles as well as headings data, using same random state \n",
        "x_train, x_val, y_train, y_val = train_test_split(data, labels, test_size=0.2, random_state=21)\n",
        "x_heading_train, x_heading_val, y_train, y_val  = train_test_split(data_heading, labels, test_size=0.2, random_state=21)"
      ]
    },
    {
      "cell_type": "code",
      "execution_count": 33,
      "metadata": {
        "colab": {
          "base_uri": "https://localhost:8080/"
        },
        "id": "L5uwG4kMWDGK",
        "outputId": "75f3a5b2-b74a-485c-c4a3-e513e78572c1"
      },
      "outputs": [
        {
          "output_type": "stream",
          "name": "stdout",
          "text": [
            "(3171, 20, 20)\n",
            "(3171, 1, 20)\n",
            "(3171, 4)\n",
            "(793, 20, 20)\n",
            "(793, 1, 20)\n",
            "(793, 4)\n"
          ]
        }
      ],
      "source": [
        "# Check shapes of all train and test arrays \n",
        "print(x_train.shape)\n",
        "print(x_heading_train.shape)\n",
        "print(y_train.shape)\n",
        "\n",
        "print(x_val.shape)\n",
        "print(x_heading_val.shape)\n",
        "print(y_val.shape)"
      ]
    },
    {
      "cell_type": "code",
      "execution_count": 34,
      "metadata": {
        "id": "pwkh9_HRWRRm",
        "colab": {
          "base_uri": "https://localhost:8080/"
        },
        "outputId": "2dc358f3-d258-42bf-dd8e-92b125c36ead"
      },
      "outputs": [
        {
          "output_type": "stream",
          "name": "stdout",
          "text": [
            "Loaded 400000 word vectors.\n"
          ]
        }
      ],
      "source": [
        "# Load the whole embedding into memory\n",
        "\n",
        "embeddings_index = dict()\n",
        "f = open('./glove.6B.300d.txt')\n",
        "for line in f:\n",
        "\tvalues = line.split()\n",
        "\tword = values[0]\n",
        "\tcoefs = np.asarray(values[1:], dtype='float32')\n",
        "\tembeddings_index[word] = coefs\n",
        "f.close()\n",
        "print('Loaded %s word vectors.' % len(embeddings_index))\n",
        "\n",
        "# Create a weight matrix for words in training docs\n",
        "\n",
        "embedding_matrix = np.zeros((vocab_size, 300))\n",
        "\n",
        "for word, i in t.word_index.items():\n",
        "\tembedding_vector = embeddings_index.get(word)\n",
        "\tif embedding_vector is not None:\n",
        "\t\tembedding_matrix[i] = embedding_vector"
      ]
    },
    {
      "cell_type": "code",
      "execution_count": 35,
      "metadata": {
        "colab": {
          "base_uri": "https://localhost:8080/"
        },
        "id": "e-3gQ8ntWUoq",
        "outputId": "7024e701-3742-4a3d-d6ee-a48fa46cb99a"
      },
      "outputs": [
        {
          "output_type": "execute_result",
          "data": {
            "text/plain": [
              "6514"
            ]
          },
          "metadata": {},
          "execution_count": 35
        }
      ],
      "source": [
        "# Check length of embedding matrix, should be equal to vocabulary size \n",
        "len(embedding_matrix)"
      ]
    },
    {
      "cell_type": "code",
      "execution_count": 36,
      "metadata": {
        "id": "5GxKpphbW8ni"
      },
      "outputs": [],
      "source": [
        "x_train_resh = x_train.reshape(3171, 400)\n",
        "x_val_resh = x_val.reshape(793, 400)"
      ]
    },
    {
      "cell_type": "code",
      "execution_count": 37,
      "metadata": {
        "id": "5Te4QmqzXDX2"
      },
      "outputs": [],
      "source": [
        "x_heading_train_resh = x_heading_train.reshape(3171, 20)\n",
        "x_heading_val_resh = x_heading_val.reshape(793, 20)"
      ]
    },
    {
      "cell_type": "code",
      "execution_count": 38,
      "metadata": {
        "colab": {
          "base_uri": "https://localhost:8080/"
        },
        "id": "UNKVtMB7XIVm",
        "outputId": "894ab173-9f4f-47f6-a9d7-8ae322198da2"
      },
      "outputs": [
        {
          "output_type": "stream",
          "name": "stdout",
          "text": [
            "(3171, 400)\n",
            "(3171, 20)\n",
            "(3171, 4)\n",
            "(793, 400)\n",
            "(793, 20)\n",
            "(793, 4)\n"
          ]
        }
      ],
      "source": [
        "# Check shapes after resizing \n",
        "print(x_train_resh.shape)\n",
        "print(x_heading_train_resh.shape)\n",
        "print(y_train.shape)\n",
        "\n",
        "print(x_val_resh.shape)\n",
        "print(x_heading_val_resh.shape)\n",
        "print(y_val.shape)"
      ]
    },
    {
      "cell_type": "code",
      "execution_count": 39,
      "metadata": {
        "id": "dPalaS1AXOHW",
        "colab": {
          "base_uri": "https://localhost:8080/",
          "height": 1000
        },
        "outputId": "852b158a-f1a4-46ae-c745-ee009710022f"
      },
      "outputs": [
        {
          "output_type": "stream",
          "name": "stdout",
          "text": [
            "Model: \"model\"\n",
            "__________________________________________________________________________________________________\n",
            " Layer (type)                   Output Shape         Param #     Connected to                     \n",
            "==================================================================================================\n",
            " input_1 (InputLayer)           [(None, 400)]        0           []                               \n",
            "                                                                                                  \n",
            " input_2 (InputLayer)           [(None, 20)]         0           []                               \n",
            "                                                                                                  \n",
            " embedding (Embedding)          (None, 400, 300)     1954200     ['input_1[0][0]']                \n",
            "                                                                                                  \n",
            " embedding_1 (Embedding)        (None, 20, 300)      1954200     ['input_2[0][0]']                \n",
            "                                                                                                  \n",
            " lstm (LSTM)                    [(None, 512),        1665024     ['embedding[0][0]']              \n",
            "                                 (None, 512),                                                     \n",
            "                                 (None, 512)]                                                     \n",
            "                                                                                                  \n",
            " lstm_1 (LSTM)                  (None, 512)          1665024     ['embedding_1[0][0]',            \n",
            "                                                                  'lstm[0][1]',                   \n",
            "                                                                  'lstm[0][2]']                   \n",
            "                                                                                                  \n",
            " dense (Dense)                  (None, 100)          51300       ['lstm_1[0][0]']                 \n",
            "                                                                                                  \n",
            " dense_1 (Dense)                (None, 4)            404         ['dense[0][0]']                  \n",
            "                                                                                                  \n",
            "==================================================================================================\n",
            "Total params: 7,290,152\n",
            "Trainable params: 3,381,752\n",
            "Non-trainable params: 3,908,400\n",
            "__________________________________________________________________________________________________\n"
          ]
        },
        {
          "output_type": "execute_result",
          "data": {
            "image/png": "[encoded data removed]",
            "text/plain": [
              "<IPython.core.display.Image object>"
            ]
          },
          "metadata": {},
          "execution_count": 39
        }
      ],
      "source": [
        "encoder_inputs = Input(shape=(400,))\n",
        "x = Embedding(vocab_size, 300, weights=[embedding_matrix], \n",
        "              trainable=False)(encoder_inputs)\n",
        "x, state_h, state_c = LSTM(units=512,\n",
        "                           return_state=True)(x)\n",
        "encoder_states = [state_h, state_c]\n",
        "\n",
        "\n",
        "decoder_inputs = Input(shape=(20,))\n",
        "x = Embedding(vocab_size, 300, weights=[embedding_matrix], \n",
        "              trainable=False)(decoder_inputs)\n",
        "x = LSTM(units=512, return_sequences=False)(x, initial_state=encoder_states)\n",
        "x = Dense(100, input_shape=(512,), activation='relu')(x)\n",
        "decoder_outputs = Dense(4, activation='softmax')(x)\n",
        "\n",
        "model = Model([encoder_inputs, decoder_inputs], decoder_outputs)\n",
        "\n",
        "\n",
        "model.summary()\n",
        "plot_model(model, to_file='model.png', show_shapes=True)"
      ]
    },
    {
      "cell_type": "code",
      "source": [
        "\n",
        "encoder_inputs = Input(shape=(400,))\n",
        "enc = Embedding(vocab_size, 300, weights=[embedding_matrix], \n",
        "              trainable=False)(encoder_inputs)\n",
        "enc, state_h, state_c = LSTM(units=512, return_sequences=True,\n",
        "                           return_state=True)(enc)\n",
        "encoder_states = [state_h, state_c]\n",
        "\n",
        "att_vector = TimeDistributed(Dense(1,input_shape=(512,)))(enc)\n",
        "att_vector_res = Reshape([400])(att_vector)\n",
        "att_vector_res = Activation('softmax', name='attention_vec')(att_vector_res)\n",
        "\n",
        "\n",
        "decoder_inputs = Input(shape=(20,))\n",
        "dec = Embedding(vocab_size, 300, weights=[embedding_matrix], \n",
        "              trainable=False)(decoder_inputs)\n",
        "dec = LSTM(units=512, return_sequences=True)(dec, initial_state=encoder_states)\n",
        "dec = Dense(20)(dec)\n",
        "dec_res = Reshape([400])(dec)\n",
        " \n",
        "att_output = Dot(axes=1)([dec_res, att_vector_res])\n",
        "\n",
        "dec_res = Dense(100, input_shape=(1,), activation='relu')(att_output)\n",
        "decoder_outputs = Dense(4, activation='softmax')(dec_res)\n",
        "\n",
        "model_att = Model([encoder_inputs, decoder_inputs], decoder_outputs)\n",
        "\n",
        "\n",
        "model_att.summary()\n",
        "plot_model(model_att, to_file='model_att.png', show_shapes=True)"
      ],
      "metadata": {
        "id": "_CNSsGXPfqxe"
      },
      "execution_count": null,
      "outputs": []
    },
    {
      "cell_type": "code",
      "execution_count": 40,
      "metadata": {
        "id": "dDaCmYm5XSQQ"
      },
      "outputs": [],
      "source": [
        "\n",
        "model.compile(optimizer='rmsprop', loss='categorical_crossentropy', metrics=['accuracy'])"
      ]
    },
    {
      "cell_type": "code",
      "execution_count": 42,
      "metadata": {
        "colab": {
          "base_uri": "https://localhost:8080/"
        },
        "id": "jzKQHLxQXU-b",
        "outputId": "4b50051f-ed10-4ba2-b69d-1aa909841a3b"
      },
      "outputs": [
        {
          "output_type": "stream",
          "name": "stdout",
          "text": [
            "Epoch 1/6\n",
            "50/50 [==============================] - 454s 9s/step - loss: 0.8711 - accuracy: 0.6881 - val_loss: 0.9136 - val_accuracy: 0.7188\n",
            "Epoch 2/6\n",
            "50/50 [==============================] - 459s 9s/step - loss: 0.8441 - accuracy: 0.6916 - val_loss: 0.9452 - val_accuracy: 0.7011\n",
            "Epoch 3/6\n",
            "50/50 [==============================] - 455s 9s/step - loss: 0.8260 - accuracy: 0.6894 - val_loss: 0.8973 - val_accuracy: 0.7087\n",
            "Epoch 4/6\n",
            "50/50 [==============================] - 459s 9s/step - loss: 0.8112 - accuracy: 0.6960 - val_loss: 0.9344 - val_accuracy: 0.7011\n",
            "Epoch 5/6\n",
            "50/50 [==============================] - 451s 9s/step - loss: 0.7834 - accuracy: 0.7010 - val_loss: 1.1106 - val_accuracy: 0.5826\n",
            "Epoch 6/6\n",
            "50/50 [==============================] - 453s 9s/step - loss: 0.7654 - accuracy: 0.7010 - val_loss: 0.9831 - val_accuracy: 0.6860\n",
            "CPU times: user 1h 21min 33s, sys: 2min 14s, total: 1h 23min 48s\n",
            "Wall time: 45min 31s\n"
          ]
        },
        {
          "output_type": "execute_result",
          "data": {
            "text/plain": [
              "<keras.callbacks.History at 0x7f21e0f1e490>"
            ]
          },
          "metadata": {},
          "execution_count": 42
        }
      ],
      "source": [
        "\n",
        "%%time\n",
        "model.fit(x=[x_train_resh, x_heading_train_resh],\n",
        "          y=y_train,\n",
        "          batch_size=64,\n",
        "          epochs=6,\n",
        "          validation_data=([x_val_resh, x_heading_val_resh],y_val))"
      ]
    },
    {
      "cell_type": "code",
      "source": [
        "\n",
        "yhat = model.predict([x_val_resh, x_heading_val_resh], verbose=1)"
      ],
      "metadata": {
        "id": "ukXIPhsOYXIV",
        "colab": {
          "base_uri": "https://localhost:8080/"
        },
        "outputId": "7cb864f5-f2e5-4718-8630-aa18cbe06e0b"
      },
      "execution_count": 43,
      "outputs": [
        {
          "output_type": "stream",
          "name": "stdout",
          "text": [
            "25/25 [==============================] - 41s 2s/step\n"
          ]
        }
      ]
    },
    {
      "cell_type": "code",
      "source": [
        "\n",
        "for i in range(10):\n",
        "  a = (random.randint(1,793))\n",
        "  print(\"Index\",a) \n",
        "  print(\"Predicted:\",yhat[a][:])\n",
        "  print(\"Actual:\",y_val[a][:])"
      ],
      "metadata": {
        "colab": {
          "base_uri": "https://localhost:8080/"
        },
        "id": "9iWZ3A-uB2ts",
        "outputId": "cfeab5b2-082e-4e7b-cfb8-c0e8206692bf"
      },
      "execution_count": 45,
      "outputs": [
        {
          "output_type": "stream",
          "name": "stdout",
          "text": [
            "Index 112\n",
            "Predicted: [0.8648608  0.03595369 0.06792412 0.03126141]\n",
            "Actual: [1 0 0 0]\n",
            "Index 157\n",
            "Predicted: [0.5738775  0.24444687 0.09144796 0.09022769]\n",
            "Actual: [1 0 0 0]\n",
            "Index 436\n",
            "Predicted: [0.46520537 0.17679076 0.00890779 0.349096  ]\n",
            "Actual: [1 0 0 0]\n",
            "Index 772\n",
            "Predicted: [0.58667135 0.11742009 0.01325511 0.28265345]\n",
            "Actual: [1 0 0 0]\n",
            "Index 200\n",
            "Predicted: [0.9630594  0.00590649 0.002883   0.02815107]\n",
            "Actual: [0 0 0 1]\n",
            "Index 125\n",
            "Predicted: [0.91148764 0.02609058 0.00593286 0.05648888]\n",
            "Actual: [1 0 0 0]\n",
            "Index 269\n",
            "Predicted: [0.7846613  0.01422252 0.07462184 0.12649427]\n",
            "Actual: [0 0 0 1]\n",
            "Index 368\n",
            "Predicted: [0.95060563 0.00633141 0.01499029 0.02807272]\n",
            "Actual: [1 0 0 0]\n",
            "Index 419\n",
            "Predicted: [0.65595007 0.02251139 0.00396031 0.31757808]\n",
            "Actual: [1 0 0 0]\n",
            "Index 727\n",
            "Predicted: [0.8012025  0.03381534 0.00276724 0.16221495]\n",
            "Actual: [1 0 0 0]\n"
          ]
        }
      ]
    },
    {
      "cell_type": "code",
      "source": [
        "loss, accuracy = model.evaluate([x_val_resh, x_heading_val_resh], y_val)\n",
        "print('Accuracy :',round((accuracy*100),2),'%')"
      ],
      "metadata": {
        "colab": {
          "base_uri": "https://localhost:8080/"
        },
        "id": "f3FBGB4_CZxJ",
        "outputId": "d8527cfe-cdcc-482b-9851-4c3eb1fbb93f"
      },
      "execution_count": 46,
      "outputs": [
        {
          "output_type": "stream",
          "name": "stdout",
          "text": [
            "25/25 [==============================] - 38s 2s/step - loss: 0.9831 - accuracy: 0.6860\n",
            "Accuracy : 68.6 %\n"
          ]
        }
      ]
    },
    {
      "cell_type": "code",
      "source": [
        "from sklearn.metrics import classification_report\n",
        "y_pred1 = model.predict([x_val_resh, x_heading_val_resh])\n",
        "y_pred = np.argmax(y_pred1, axis=1)\n",
        "\n"
      ],
      "metadata": {
        "colab": {
          "base_uri": "https://localhost:8080/"
        },
        "id": "1DGy_GRQSDT6",
        "outputId": "4d0b207b-4e33-4338-cd60-1804c7cf38fb"
      },
      "execution_count": 47,
      "outputs": [
        {
          "output_type": "stream",
          "name": "stdout",
          "text": [
            "25/25 [==============================] - 39s 2s/step\n"
          ]
        }
      ]
    },
    {
      "cell_type": "code",
      "source": [
        "y_train_l = np.argmax(y_val, axis=1)\n",
        "\n",
        "print(y_train_l.shape, y_pred.shape)\n",
        "print(y_train_l[:5], y_pred[:5])"
      ],
      "metadata": {
        "colab": {
          "base_uri": "https://localhost:8080/"
        },
        "id": "vzAlHi7PXf0E",
        "outputId": "047140fd-e126-46bf-b13b-61cae8695d4f"
      },
      "execution_count": 48,
      "outputs": [
        {
          "output_type": "stream",
          "name": "stdout",
          "text": [
            "(793,) (793,)\n",
            "[2 3 0 0 0] [0 1 0 0 0]\n"
          ]
        }
      ]
    },
    {
      "cell_type": "code",
      "source": [
        "print(classification_report(y_train_l, y_pred))\n"
      ],
      "metadata": {
        "colab": {
          "base_uri": "https://localhost:8080/"
        },
        "id": "nkzYv5W0YZoc",
        "outputId": "52cddf68-e84d-476a-e4f5-e80cf89d2a4d"
      },
      "execution_count": 49,
      "outputs": [
        {
          "output_type": "stream",
          "name": "stdout",
          "text": [
            "              precision    recall  f1-score   support\n",
            "\n",
            "           0       0.73      0.93      0.82       567\n",
            "           1       0.07      0.04      0.05        56\n",
            "           2       0.29      0.09      0.14        55\n",
            "           3       0.38      0.10      0.16       115\n",
            "\n",
            "    accuracy                           0.69       793\n",
            "   macro avg       0.37      0.29      0.29       793\n",
            "weighted avg       0.60      0.69      0.62       793\n",
            "\n"
          ]
        }
      ]
    }
  ],
  "metadata": {
    "colab": {
      "provenance": []
    },
    "kernelspec": {
      "display_name": "Python 3",
      "name": "python3"
    },
    "language_info": {
      "name": "python"
    }
  },
  "nbformat": 4,
  "nbformat_minor": 0
}