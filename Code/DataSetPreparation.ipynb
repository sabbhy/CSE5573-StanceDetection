{
  "nbformat": 4,
  "nbformat_minor": 0,
  "metadata": {
    "colab": {
      "provenance": [],
      "include_colab_link": true
    },
    "kernelspec": {
      "name": "python3",
      "display_name": "Python 3"
    },
    "language_info": {
      "name": "python"
    }
  },
  "cells": [
    {
      "cell_type": "markdown",
      "metadata": {
        "id": "view-in-github",
        "colab_type": "text"
      },
      "source": [
        "<a href=\"https://colab.research.google.com/github/sabbhy/CSE573-StanceDetection/blob/main/DataSetPreparation.ipynb\" target=\"_parent\"><img src=\"https://colab.research.google.com/assets/colab-badge.svg\" alt=\"Open In Colab\"/></a>"
      ]
    },
    {
      "cell_type": "code",
      "source": [
        "from google.colab import drive\n",
        "drive.mount('/content/drive')"
      ],
      "metadata": {
        "id": "zKT3LtG3T3iE",
        "colab": {
          "base_uri": "https://localhost:8080/"
        },
        "outputId": "c4e1f34f-58a1-4653-8590-de5cfc247fb7"
      },
      "execution_count": 1,
      "outputs": [
        {
          "output_type": "stream",
          "name": "stdout",
          "text": [
            "Mounted at /content/drive\n"
          ]
        }
      ]
    },
    {
      "cell_type": "code",
      "source": [
        "pip install demoji"
      ],
      "metadata": {
        "colab": {
          "base_uri": "https://localhost:8080/"
        },
        "id": "-M_mlZIWz3pl",
        "outputId": "06b0091a-0d4e-46ee-8a7c-eef870eaf0b1"
      },
      "execution_count": 2,
      "outputs": [
        {
          "output_type": "stream",
          "name": "stdout",
          "text": [
            "Looking in indexes: https://pypi.org/simple, https://us-python.pkg.dev/colab-wheels/public/simple/\n",
            "Collecting demoji\n",
            "  Downloading demoji-1.1.0-py3-none-any.whl (42 kB)\n",
            "\u001b[K     |████████████████████████████████| 42 kB 1.5 MB/s \n",
            "\u001b[?25hInstalling collected packages: demoji\n",
            "Successfully installed demoji-1.1.0\n"
          ]
        }
      ]
    },
    {
      "cell_type": "code",
      "execution_count": 3,
      "metadata": {
        "id": "oCaGWLTaaAA6"
      },
      "outputs": [],
      "source": [
        "from google.colab import files\n",
        "import json\n",
        "import os\n",
        "import pandas as pd\n",
        "import string\n",
        "import re\n",
        "import demoji"
      ]
    },
    {
      "cell_type": "code",
      "source": [
        "df = pd.DataFrame(columns=['id', 'parent_id', 'tweet', 'topic'])\n",
        "print(df)"
      ],
      "metadata": {
        "colab": {
          "base_uri": "https://localhost:8080/"
        },
        "id": "rUG9bVnU0GPG",
        "outputId": "0fbe1db4-3223-4000-f81f-dac48ba7786a"
      },
      "execution_count": 4,
      "outputs": [
        {
          "output_type": "stream",
          "name": "stdout",
          "text": [
            "Empty DataFrame\n",
            "Columns: [id, parent_id, tweet, topic]\n",
            "Index: []\n"
          ]
        }
      ]
    },
    {
      "cell_type": "code",
      "source": [
        "# file = open('/content/drive/CSE 573 Semantic Web Mining/processed/charliehebdo/552783667052167168/source-tweet/552783667052167168.json')\n",
        "# jsonfile = json.load(file)\n",
        "# print(jsonfile)\n",
        "pd.options.display.max_colwidth = 10000;\n",
        "dir = '/content/drive/Shareddrives/CSE 573 Semantic Web Mining/processed/'\n",
        "for topic in os.listdir(dir):\n",
        "  # print(topic)\n",
        "  for thread in os.listdir(dir+topic+'/'):\n",
        "    # print(thread)\n",
        "    threadDir = dir+topic+'/'+thread+'/'\n",
        "    if(os.path.exists(threadDir+'source-tweet/')):\n",
        "      for sourceTweet in os.listdir(threadDir+'source-tweet/'):\n",
        "        file = open(threadDir + 'source-tweet/'+sourceTweet)\n",
        "        jsonfile = json.load(file)\n",
        "        df.loc[len(df.index)] = [jsonfile['id'], jsonfile['in_reply_to_status_id'], jsonfile['text'], topic]\n",
        "    if(os.path.exists(threadDir+'replies/')):\n",
        "      for reply in os.listdir(threadDir+'replies/'):\n",
        "        file = open(threadDir + 'replies/'+reply)\n",
        "        jsonfile = json.load(file)\n",
        "        # print(jsonfile['text'])\n",
        "        df.loc[len(df.index)] = [jsonfile['id'], jsonfile['in_reply_to_status_id'], jsonfile['text'], topic]\n",
        "\n",
        "\n"
      ],
      "metadata": {
        "id": "3OLU4TN1wQGh"
      },
      "execution_count": 5,
      "outputs": []
    },
    {
      "cell_type": "code",
      "source": [
        "display(df['tweet'][0])"
      ],
      "metadata": {
        "id": "26qF3ot54WB8",
        "colab": {
          "base_uri": "https://localhost:8080/",
          "height": 36
        },
        "outputId": "79b6ed0a-4ba2-40d0-893f-62cc464e6973"
      },
      "execution_count": 6,
      "outputs": [
        {
          "output_type": "display_data",
          "data": {
            "text/plain": [
              "'Store owner told @FOX2now Monday that there was a theft, but said it was not MichaelBrown; said it was someone else #Ferguson'"
            ],
            "application/vnd.google.colaboratory.intrinsic+json": {
              "type": "string"
            }
          },
          "metadata": {}
        }
      ]
    },
    {
      "cell_type": "code",
      "source": [
        "pd.options.display.max_colwidth = 10000;\n",
        "df_train = pd.DataFrame(columns=['id', 'parent_id', 'parent_tweet', 'tweet', 'topic', 'classification'])\n",
        "df_train_body = pd.DataFrame(columns=['id', 'tweet'])\n",
        "df_train_stance = pd.DataFrame(columns=['parent_tweet', 'id', 'classification'])\n"
      ],
      "metadata": {
        "id": "dAod7PD8AUqZ"
      },
      "execution_count": 7,
      "outputs": []
    },
    {
      "cell_type": "code",
      "source": [
        "for index, row in df.iterrows():\n",
        "  row['tweet'] = \" \".join(filter(lambda word: not word.startswith('@'), row['tweet'].split()))\n",
        "  row['tweet'] = \" \".join(filter(lambda word: not word.startswith('http'), row['tweet'].split()))\n",
        "  row['tweet'] = \"\".join([char for char in row['tweet'] if char not in ['#','@']])\n",
        "  row['tweet'] = re.sub('[0-9]+', '', row['tweet'])\n",
        "  row['tweet'] = demoji.replace(row['tweet'], \"\")\n"
      ],
      "metadata": {
        "id": "Q0h4U-84wXmg"
      },
      "execution_count": 8,
      "outputs": []
    },
    {
      "cell_type": "code",
      "source": [
        "from pandas.core.arrays.sparse import dtype\n",
        "trainJsonPath = '/content/drive/Shareddrives/CSE 573 Semantic Web Mining/Annotated/rumoureval-subtaskA-train.json'\n",
        "trainfile = open(trainJsonPath)\n",
        "trainjsonfile = json.load(trainfile)\n",
        "for tweet_id, annotation in trainjsonfile.items():\n",
        "  row = df.loc[df['id'] == int(tweet_id)]\n",
        "  parentid = row['parent_id'].to_string(index=False)\n",
        "  parentTweet = None\n",
        "  if(parentid not in [\"None\", \"Series([], )\"]):\n",
        "    parentTweet = df[df['id'] == int(parentid)]['tweet'].to_string(index=False)\n",
        "  df_train.loc[len(df_train.index)] = [row['id'].to_string(index=False), row['parent_id'].to_string(index=False), parentTweet, row['tweet'].to_string(index=False), row['topic'].to_string(index=False), annotation]\n",
        "  if(parentTweet != None):\n",
        "    df_train_body.loc[len(df_train_body.index)] =  [row['id'].to_string(index=False), row['tweet'].to_string(index=False)]\n",
        "    df_train_stance.loc[len(df_train_stance.index)] = [parentTweet, row['id'].to_string(index=False), annotation]\n",
        "\n"
      ],
      "metadata": {
        "id": "Cs7_qqfm-525"
      },
      "execution_count": null,
      "outputs": []
    },
    {
      "cell_type": "code",
      "source": [
        "display(df_train_stance)"
      ],
      "metadata": {
        "id": "iEdEX8V-FCln",
        "colab": {
          "base_uri": "https://localhost:8080/",
          "height": 485
        },
        "outputId": "21757586-f465-4de7-895b-d6c108813ce7"
      },
      "execution_count": 10,
      "outputs": [
        {
          "output_type": "display_data",
          "data": {
            "text/plain": [
              "                                                                                                                                 parent_tweet  \\\n",
              "0                                        Heard that friend was not going to be \"charged\" in any robbery since video shows it was other person   \n",
              "1                                                Name of Ferguson cop is expected to be released by  ET, police chief says: (J.B. Forbes, AP)   \n",
              "2                                                                                        no, radical Muslim extremists are making us victims.   \n",
              "3                                                  URGENT:  gunmen involved in deadly attack on CharlieHebdo - French interior minister Paris   \n",
              "4     Did anyone think of comparing the clothes that MikeBrown was wearing when he was laying on the street to the security footage? Ferguson   \n",
              "...                                                                                                                                       ...   \n",
              "3959                                              CharlieHebdo shooting suspects tell police they 'prepared to die as martyrs' - French media   \n",
              "3960                                                                    BREAKING NEWS: Gunmen take hostages at Sydney cafe, wave Islamic flag   \n",
              "3961                          There are pics of \"strong arm robbery\" clothing description/size of assailant similar BUT cop deadly force? No!   \n",
              "3962                                                                                      According to Seven, this is a picture of the gunman   \n",
              "3963                                                                                                          That's two different arguments.   \n",
              "\n",
              "                      id classification  \n",
              "0     501760642928635904        comment  \n",
              "1     500270212198174720        comment  \n",
              "2     524971210275565568        comment  \n",
              "3     552836882770690049        comment  \n",
              "4     500289931097296897        support  \n",
              "...                  ...            ...  \n",
              "3959  553505863827079168        comment  \n",
              "3960  544284128615473152        comment  \n",
              "3961  500302889429241856        support  \n",
              "3962  544293668513792000        comment  \n",
              "3963  500320873086476288        comment  \n",
              "\n",
              "[3964 rows x 3 columns]"
            ],
            "text/html": [
              "\n",
              "  <div id=\"df-b56f62a9-24d2-44bd-9db5-53c77b44f260\">\n",
              "    <div class=\"colab-df-container\">\n",
              "      <div>\n",
              "<style scoped>\n",
              "    .dataframe tbody tr th:only-of-type {\n",
              "        vertical-align: middle;\n",
              "    }\n",
              "\n",
              "    .dataframe tbody tr th {\n",
              "        vertical-align: top;\n",
              "    }\n",
              "\n",
              "    .dataframe thead th {\n",
              "        text-align: right;\n",
              "    }\n",
              "</style>\n",
              "<table border=\"1\" class=\"dataframe\">\n",
              "  <thead>\n",
              "    <tr style=\"text-align: right;\">\n",
              "      <th></th>\n",
              "      <th>parent_tweet</th>\n",
              "      <th>id</th>\n",
              "      <th>classification</th>\n",
              "    </tr>\n",
              "  </thead>\n",
              "  <tbody>\n",
              "    <tr>\n",
              "      <th>0</th>\n",
              "      <td>Heard that friend was not going to be \"charged\" in any robbery since video shows it was other person</td>\n",
              "      <td>501760642928635904</td>\n",
              "      <td>comment</td>\n",
              "    </tr>\n",
              "    <tr>\n",
              "      <th>1</th>\n",
              "      <td>Name of Ferguson cop is expected to be released by  ET, police chief says: (J.B. Forbes, AP)</td>\n",
              "      <td>500270212198174720</td>\n",
              "      <td>comment</td>\n",
              "    </tr>\n",
              "    <tr>\n",
              "      <th>2</th>\n",
              "      <td>no, radical Muslim extremists are making us victims.</td>\n",
              "      <td>524971210275565568</td>\n",
              "      <td>comment</td>\n",
              "    </tr>\n",
              "    <tr>\n",
              "      <th>3</th>\n",
              "      <td>URGENT:  gunmen involved in deadly attack on CharlieHebdo - French interior minister Paris</td>\n",
              "      <td>552836882770690049</td>\n",
              "      <td>comment</td>\n",
              "    </tr>\n",
              "    <tr>\n",
              "      <th>4</th>\n",
              "      <td>Did anyone think of comparing the clothes that MikeBrown was wearing when he was laying on the street to the security footage? Ferguson</td>\n",
              "      <td>500289931097296897</td>\n",
              "      <td>support</td>\n",
              "    </tr>\n",
              "    <tr>\n",
              "      <th>...</th>\n",
              "      <td>...</td>\n",
              "      <td>...</td>\n",
              "      <td>...</td>\n",
              "    </tr>\n",
              "    <tr>\n",
              "      <th>3959</th>\n",
              "      <td>CharlieHebdo shooting suspects tell police they 'prepared to die as martyrs' - French media</td>\n",
              "      <td>553505863827079168</td>\n",
              "      <td>comment</td>\n",
              "    </tr>\n",
              "    <tr>\n",
              "      <th>3960</th>\n",
              "      <td>BREAKING NEWS: Gunmen take hostages at Sydney cafe, wave Islamic flag</td>\n",
              "      <td>544284128615473152</td>\n",
              "      <td>comment</td>\n",
              "    </tr>\n",
              "    <tr>\n",
              "      <th>3961</th>\n",
              "      <td>There are pics of \"strong arm robbery\" clothing description/size of assailant similar BUT cop deadly force? No!</td>\n",
              "      <td>500302889429241856</td>\n",
              "      <td>support</td>\n",
              "    </tr>\n",
              "    <tr>\n",
              "      <th>3962</th>\n",
              "      <td>According to Seven, this is a picture of the gunman</td>\n",
              "      <td>544293668513792000</td>\n",
              "      <td>comment</td>\n",
              "    </tr>\n",
              "    <tr>\n",
              "      <th>3963</th>\n",
              "      <td>That's two different arguments.</td>\n",
              "      <td>500320873086476288</td>\n",
              "      <td>comment</td>\n",
              "    </tr>\n",
              "  </tbody>\n",
              "</table>\n",
              "<p>3964 rows × 3 columns</p>\n",
              "</div>\n",
              "      <button class=\"colab-df-convert\" onclick=\"convertToInteractive('df-b56f62a9-24d2-44bd-9db5-53c77b44f260')\"\n",
              "              title=\"Convert this dataframe to an interactive table.\"\n",
              "              style=\"display:none;\">\n",
              "        \n",
              "  <svg xmlns=\"http://www.w3.org/2000/svg\" height=\"24px\"viewBox=\"0 0 24 24\"\n",
              "       width=\"24px\">\n",
              "    <path d=\"M0 0h24v24H0V0z\" fill=\"none\"/>\n",
              "    <path d=\"M18.56 5.44l.94 2.06.94-2.06 2.06-.94-2.06-.94-.94-2.06-.94 2.06-2.06.94zm-11 1L8.5 8.5l.94-2.06 2.06-.94-2.06-.94L8.5 2.5l-.94 2.06-2.06.94zm10 10l.94 2.06.94-2.06 2.06-.94-2.06-.94-.94-2.06-.94 2.06-2.06.94z\"/><path d=\"M17.41 7.96l-1.37-1.37c-.4-.4-.92-.59-1.43-.59-.52 0-1.04.2-1.43.59L10.3 9.45l-7.72 7.72c-.78.78-.78 2.05 0 2.83L4 21.41c.39.39.9.59 1.41.59.51 0 1.02-.2 1.41-.59l7.78-7.78 2.81-2.81c.8-.78.8-2.07 0-2.86zM5.41 20L4 18.59l7.72-7.72 1.47 1.35L5.41 20z\"/>\n",
              "  </svg>\n",
              "      </button>\n",
              "      \n",
              "  <style>\n",
              "    .colab-df-container {\n",
              "      display:flex;\n",
              "      flex-wrap:wrap;\n",
              "      gap: 12px;\n",
              "    }\n",
              "\n",
              "    .colab-df-convert {\n",
              "      background-color: #E8F0FE;\n",
              "      border: none;\n",
              "      border-radius: 50%;\n",
              "      cursor: pointer;\n",
              "      display: none;\n",
              "      fill: #1967D2;\n",
              "      height: 32px;\n",
              "      padding: 0 0 0 0;\n",
              "      width: 32px;\n",
              "    }\n",
              "\n",
              "    .colab-df-convert:hover {\n",
              "      background-color: #E2EBFA;\n",
              "      box-shadow: 0px 1px 2px rgba(60, 64, 67, 0.3), 0px 1px 3px 1px rgba(60, 64, 67, 0.15);\n",
              "      fill: #174EA6;\n",
              "    }\n",
              "\n",
              "    [theme=dark] .colab-df-convert {\n",
              "      background-color: #3B4455;\n",
              "      fill: #D2E3FC;\n",
              "    }\n",
              "\n",
              "    [theme=dark] .colab-df-convert:hover {\n",
              "      background-color: #434B5C;\n",
              "      box-shadow: 0px 1px 3px 1px rgba(0, 0, 0, 0.15);\n",
              "      filter: drop-shadow(0px 1px 2px rgba(0, 0, 0, 0.3));\n",
              "      fill: #FFFFFF;\n",
              "    }\n",
              "  </style>\n",
              "\n",
              "      <script>\n",
              "        const buttonEl =\n",
              "          document.querySelector('#df-b56f62a9-24d2-44bd-9db5-53c77b44f260 button.colab-df-convert');\n",
              "        buttonEl.style.display =\n",
              "          google.colab.kernel.accessAllowed ? 'block' : 'none';\n",
              "\n",
              "        async function convertToInteractive(key) {\n",
              "          const element = document.querySelector('#df-b56f62a9-24d2-44bd-9db5-53c77b44f260');\n",
              "          const dataTable =\n",
              "            await google.colab.kernel.invokeFunction('convertToInteractive',\n",
              "                                                     [key], {});\n",
              "          if (!dataTable) return;\n",
              "\n",
              "          const docLinkHtml = 'Like what you see? Visit the ' +\n",
              "            '<a target=\"_blank\" href=https://colab.research.google.com/notebooks/data_table.ipynb>data table notebook</a>'\n",
              "            + ' to learn more about interactive tables.';\n",
              "          element.innerHTML = '';\n",
              "          dataTable['output_type'] = 'display_data';\n",
              "          await google.colab.output.renderOutput(dataTable, element);\n",
              "          const docLink = document.createElement('div');\n",
              "          docLink.innerHTML = docLinkHtml;\n",
              "          element.appendChild(docLink);\n",
              "        }\n",
              "      </script>\n",
              "    </div>\n",
              "  </div>\n",
              "  "
            ]
          },
          "metadata": {}
        }
      ]
    },
    {
      "cell_type": "code",
      "source": [
        "df_train.to_csv('train.csv')\n",
        "df_train_body.to_csv('train_body.csv')\n",
        "df_train_stance.to_csv('train_stance.csv')"
      ],
      "metadata": {
        "id": "DWBOUr4wIcZa"
      },
      "execution_count": 11,
      "outputs": []
    },
    {
      "cell_type": "code",
      "source": [
        "df_dev = pd.DataFrame(columns=['id', 'parent_id', 'tweet', 'topic', 'classification'])\n",
        "df_dev_body = pd.DataFrame(columns=['id', 'tweet'])\n",
        "df_dev_stance = pd.DataFrame(columns=['parent_tweet', 'id', 'classification'])"
      ],
      "metadata": {
        "id": "rIIoYYqiJOHp"
      },
      "execution_count": 12,
      "outputs": []
    },
    {
      "cell_type": "code",
      "source": [
        "devJsonPath = '/content/drive/Shareddrives/CSE 573 Semantic Web Mining/Annotated/rumoureval-subtaskA-dev.json'\n",
        "devfile = open(devJsonPath)\n",
        "devjsonfile = json.load(devfile)\n",
        "for tweet_id, annotation in devjsonfile.items():\n",
        "  row = df.loc[df['id'] == int(tweet_id)]\n",
        "  row['classification'] = annotation\n",
        "  parentid = row['parent_id'].to_string(index=False)\n",
        "  parentTweet = None\n",
        "  if(parentid not in [\"None\", \"Series([], )\"]):\n",
        "    parentTweet = df[df['id'] == int(parentid)]['tweet'].to_string(index=False)\n",
        "  df_dev.loc[len(df_dev.index)] = [row['id'].to_string(index=False), row['parent_id'].to_string(index=False), row['tweet'].to_string(index=False), row['topic'].to_string(index=False), annotation]\n",
        "  if(parentTweet != None):\n",
        "    df_dev_body.loc[len(df_dev_body.index)] =  [row['id'].to_string(index=False), row['tweet'].to_string(index=False)]\n",
        "    df_dev_stance.loc[len(df_dev_stance.index)] = [parentTweet, row['id'].to_string(index=False), annotation]\n"
      ],
      "metadata": {
        "id": "kIjicmeoJLrM",
        "colab": {
          "base_uri": "https://localhost:8080/"
        },
        "outputId": "72c6ac78-c458-4064-9a31-3b5013037bb4"
      },
      "execution_count": 13,
      "outputs": [
        {
          "output_type": "stream",
          "name": "stderr",
          "text": [
            "/usr/local/lib/python3.7/dist-packages/ipykernel_launcher.py:6: SettingWithCopyWarning: \n",
            "A value is trying to be set on a copy of a slice from a DataFrame.\n",
            "Try using .loc[row_indexer,col_indexer] = value instead\n",
            "\n",
            "See the caveats in the documentation: https://pandas.pydata.org/pandas-docs/stable/user_guide/indexing.html#returning-a-view-versus-a-copy\n",
            "  \n"
          ]
        }
      ]
    },
    {
      "cell_type": "code",
      "source": [
        "display(df_dev_stance)"
      ],
      "metadata": {
        "id": "JK3Ab21XJ0A0",
        "colab": {
          "base_uri": "https://localhost:8080/",
          "height": 485
        },
        "outputId": "c7eafe24-d9bf-4997-dc97-469f604ee46d"
      },
      "execution_count": 15,
      "outputs": [
        {
          "output_type": "display_data",
          "data": {
            "text/plain": [
              "                                                                                                                 parent_tweet  \\\n",
              "0                                                                      Germanwings Airbus A crashes in French Alps near Digne   \n",
              "1    U From FL to FL in  min? That's average rate of descent  fpm! Than levelled off at FL? What the hell was going on there?   \n",
              "2                                                                            The transponder did not say anything. No sqwak .   \n",
              "3           Latest on Germanwings crash: Pilots signaled  before dropping out of midair; airline CEO calls this a \"dark day.\"   \n",
              "4                                                                                             all rumors.not confirmed at all   \n",
              "..                                                                                                                        ...   \n",
              "251                   Debris from Germanwings crash located in Barcelonette area of the Alps, France's Interior Ministry says   \n",
              "252           GERMAN NEWS: Co-Pilot of Germanwings Airbus Was MUSLIM CONVERT. Can any muslim be trusted near an airplane now?   \n",
              "253                  BREAKING:  passengers were on board GermanWings Airbus A which has crashed in the southern French Alps -   \n",
              "254                                                                      BREAKING:  feared dead in crashed Germanwings flight   \n",
              "255                      RT German media reporting AndreasLubitz had a 'serious depressive episode' six years ago Germanwings   \n",
              "\n",
              "                     id classification  \n",
              "0    580321716838100992        support  \n",
              "1    580332626541694976        support  \n",
              "2    581065934598582272        comment  \n",
              "3    580342887910494208          query  \n",
              "4    581576082362478595        comment  \n",
              "..                  ...            ...  \n",
              "251  580397833548861442        comment  \n",
              "252  581338469496041472        comment  \n",
              "253  580321806285975552        comment  \n",
              "254  580342470472400897        support  \n",
              "255  581573267829342208        comment  \n",
              "\n",
              "[256 rows x 3 columns]"
            ],
            "text/html": [
              "\n",
              "  <div id=\"df-25c33647-081b-4714-a671-43697387ad9f\">\n",
              "    <div class=\"colab-df-container\">\n",
              "      <div>\n",
              "<style scoped>\n",
              "    .dataframe tbody tr th:only-of-type {\n",
              "        vertical-align: middle;\n",
              "    }\n",
              "\n",
              "    .dataframe tbody tr th {\n",
              "        vertical-align: top;\n",
              "    }\n",
              "\n",
              "    .dataframe thead th {\n",
              "        text-align: right;\n",
              "    }\n",
              "</style>\n",
              "<table border=\"1\" class=\"dataframe\">\n",
              "  <thead>\n",
              "    <tr style=\"text-align: right;\">\n",
              "      <th></th>\n",
              "      <th>parent_tweet</th>\n",
              "      <th>id</th>\n",
              "      <th>classification</th>\n",
              "    </tr>\n",
              "  </thead>\n",
              "  <tbody>\n",
              "    <tr>\n",
              "      <th>0</th>\n",
              "      <td>Germanwings Airbus A crashes in French Alps near Digne</td>\n",
              "      <td>580321716838100992</td>\n",
              "      <td>support</td>\n",
              "    </tr>\n",
              "    <tr>\n",
              "      <th>1</th>\n",
              "      <td>U From FL to FL in  min? That's average rate of descent  fpm! Than levelled off at FL? What the hell was going on there?</td>\n",
              "      <td>580332626541694976</td>\n",
              "      <td>support</td>\n",
              "    </tr>\n",
              "    <tr>\n",
              "      <th>2</th>\n",
              "      <td>The transponder did not say anything. No sqwak .</td>\n",
              "      <td>581065934598582272</td>\n",
              "      <td>comment</td>\n",
              "    </tr>\n",
              "    <tr>\n",
              "      <th>3</th>\n",
              "      <td>Latest on Germanwings crash: Pilots signaled  before dropping out of midair; airline CEO calls this a \"dark day.\"</td>\n",
              "      <td>580342887910494208</td>\n",
              "      <td>query</td>\n",
              "    </tr>\n",
              "    <tr>\n",
              "      <th>4</th>\n",
              "      <td>all rumors.not confirmed at all</td>\n",
              "      <td>581576082362478595</td>\n",
              "      <td>comment</td>\n",
              "    </tr>\n",
              "    <tr>\n",
              "      <th>...</th>\n",
              "      <td>...</td>\n",
              "      <td>...</td>\n",
              "      <td>...</td>\n",
              "    </tr>\n",
              "    <tr>\n",
              "      <th>251</th>\n",
              "      <td>Debris from Germanwings crash located in Barcelonette area of the Alps, France's Interior Ministry says</td>\n",
              "      <td>580397833548861442</td>\n",
              "      <td>comment</td>\n",
              "    </tr>\n",
              "    <tr>\n",
              "      <th>252</th>\n",
              "      <td>GERMAN NEWS: Co-Pilot of Germanwings Airbus Was MUSLIM CONVERT. Can any muslim be trusted near an airplane now?</td>\n",
              "      <td>581338469496041472</td>\n",
              "      <td>comment</td>\n",
              "    </tr>\n",
              "    <tr>\n",
              "      <th>253</th>\n",
              "      <td>BREAKING:  passengers were on board GermanWings Airbus A which has crashed in the southern French Alps -</td>\n",
              "      <td>580321806285975552</td>\n",
              "      <td>comment</td>\n",
              "    </tr>\n",
              "    <tr>\n",
              "      <th>254</th>\n",
              "      <td>BREAKING:  feared dead in crashed Germanwings flight</td>\n",
              "      <td>580342470472400897</td>\n",
              "      <td>support</td>\n",
              "    </tr>\n",
              "    <tr>\n",
              "      <th>255</th>\n",
              "      <td>RT German media reporting AndreasLubitz had a 'serious depressive episode' six years ago Germanwings</td>\n",
              "      <td>581573267829342208</td>\n",
              "      <td>comment</td>\n",
              "    </tr>\n",
              "  </tbody>\n",
              "</table>\n",
              "<p>256 rows × 3 columns</p>\n",
              "</div>\n",
              "      <button class=\"colab-df-convert\" onclick=\"convertToInteractive('df-25c33647-081b-4714-a671-43697387ad9f')\"\n",
              "              title=\"Convert this dataframe to an interactive table.\"\n",
              "              style=\"display:none;\">\n",
              "        \n",
              "  <svg xmlns=\"http://www.w3.org/2000/svg\" height=\"24px\"viewBox=\"0 0 24 24\"\n",
              "       width=\"24px\">\n",
              "    <path d=\"M0 0h24v24H0V0z\" fill=\"none\"/>\n",
              "    <path d=\"M18.56 5.44l.94 2.06.94-2.06 2.06-.94-2.06-.94-.94-2.06-.94 2.06-2.06.94zm-11 1L8.5 8.5l.94-2.06 2.06-.94-2.06-.94L8.5 2.5l-.94 2.06-2.06.94zm10 10l.94 2.06.94-2.06 2.06-.94-2.06-.94-.94-2.06-.94 2.06-2.06.94z\"/><path d=\"M17.41 7.96l-1.37-1.37c-.4-.4-.92-.59-1.43-.59-.52 0-1.04.2-1.43.59L10.3 9.45l-7.72 7.72c-.78.78-.78 2.05 0 2.83L4 21.41c.39.39.9.59 1.41.59.51 0 1.02-.2 1.41-.59l7.78-7.78 2.81-2.81c.8-.78.8-2.07 0-2.86zM5.41 20L4 18.59l7.72-7.72 1.47 1.35L5.41 20z\"/>\n",
              "  </svg>\n",
              "      </button>\n",
              "      \n",
              "  <style>\n",
              "    .colab-df-container {\n",
              "      display:flex;\n",
              "      flex-wrap:wrap;\n",
              "      gap: 12px;\n",
              "    }\n",
              "\n",
              "    .colab-df-convert {\n",
              "      background-color: #E8F0FE;\n",
              "      border: none;\n",
              "      border-radius: 50%;\n",
              "      cursor: pointer;\n",
              "      display: none;\n",
              "      fill: #1967D2;\n",
              "      height: 32px;\n",
              "      padding: 0 0 0 0;\n",
              "      width: 32px;\n",
              "    }\n",
              "\n",
              "    .colab-df-convert:hover {\n",
              "      background-color: #E2EBFA;\n",
              "      box-shadow: 0px 1px 2px rgba(60, 64, 67, 0.3), 0px 1px 3px 1px rgba(60, 64, 67, 0.15);\n",
              "      fill: #174EA6;\n",
              "    }\n",
              "\n",
              "    [theme=dark] .colab-df-convert {\n",
              "      background-color: #3B4455;\n",
              "      fill: #D2E3FC;\n",
              "    }\n",
              "\n",
              "    [theme=dark] .colab-df-convert:hover {\n",
              "      background-color: #434B5C;\n",
              "      box-shadow: 0px 1px 3px 1px rgba(0, 0, 0, 0.15);\n",
              "      filter: drop-shadow(0px 1px 2px rgba(0, 0, 0, 0.3));\n",
              "      fill: #FFFFFF;\n",
              "    }\n",
              "  </style>\n",
              "\n",
              "      <script>\n",
              "        const buttonEl =\n",
              "          document.querySelector('#df-25c33647-081b-4714-a671-43697387ad9f button.colab-df-convert');\n",
              "        buttonEl.style.display =\n",
              "          google.colab.kernel.accessAllowed ? 'block' : 'none';\n",
              "\n",
              "        async function convertToInteractive(key) {\n",
              "          const element = document.querySelector('#df-25c33647-081b-4714-a671-43697387ad9f');\n",
              "          const dataTable =\n",
              "            await google.colab.kernel.invokeFunction('convertToInteractive',\n",
              "                                                     [key], {});\n",
              "          if (!dataTable) return;\n",
              "\n",
              "          const docLinkHtml = 'Like what you see? Visit the ' +\n",
              "            '<a target=\"_blank\" href=https://colab.research.google.com/notebooks/data_table.ipynb>data table notebook</a>'\n",
              "            + ' to learn more about interactive tables.';\n",
              "          element.innerHTML = '';\n",
              "          dataTable['output_type'] = 'display_data';\n",
              "          await google.colab.output.renderOutput(dataTable, element);\n",
              "          const docLink = document.createElement('div');\n",
              "          docLink.innerHTML = docLinkHtml;\n",
              "          element.appendChild(docLink);\n",
              "        }\n",
              "      </script>\n",
              "    </div>\n",
              "  </div>\n",
              "  "
            ]
          },
          "metadata": {}
        }
      ]
    },
    {
      "cell_type": "code",
      "source": [
        "df_dev.to_csv('dev.csv')\n",
        "df_dev_stance.to_csv('dev_stance.csv')\n",
        "df_dev_body.to_csv('dev_body.csv')"
      ],
      "metadata": {
        "id": "5fiwPZV5Jdwc"
      },
      "execution_count": 14,
      "outputs": []
    },
    {
      "cell_type": "code",
      "source": [
        "!cp train.csv \"drive/Shareddrives/CSE 573 Semantic Web Mining/Annotated/\"\n",
        "!cp dev.csv \"drive/Shareddrives/CSE 573 Semantic Web Mining/Annotated/\"\n",
        "!cp train_body.csv \"drive/Shareddrives/CSE 573 Semantic Web Mining/Annotated/\"\n",
        "!cp dev_body.csv \"drive/Shareddrives/CSE 573 Semantic Web Mining/Annotated/\"\n",
        "!cp train_stance.csv \"drive/Shareddrives/CSE 573 Semantic Web Mining/Annotated/\"\n",
        "!cp dev_stance.csv \"drive/Shareddrives/CSE 573 Semantic Web Mining/Annotated/\""
      ],
      "metadata": {
        "id": "u13p1pxaxWd9"
      },
      "execution_count": 16,
      "outputs": []
    }
  ]
}