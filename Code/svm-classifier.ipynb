{
 "cells": [
  {
   "cell_type": "code",
   "execution_count": 1,
   "id": "cde7e5f4",
   "metadata": {},
   "outputs": [],
   "source": [
    "import os, sys\n",
    "import pickle\n",
    "import json\n",
    "from sklearn.linear_model import SGDClassifier as svm\n",
    "import numpy as np\n",
    "from sklearn.metrics import confusion_matrix\n",
    "from sklearn.metrics import precision_recall_fscore_support\n",
    "from sklearn.metrics import classification_report, accuracy_score, confusion_matrix"
   ]
  },
  {
   "cell_type": "code",
   "execution_count": 2,
   "id": "ab64439e",
   "metadata": {},
   "outputs": [],
   "source": [
    "cwd = os.getcwd()\n",
    "\n",
    "#Read training data\n",
    "f = open(os.path.join(cwd, r'training.pkl'), 'rb')\n",
    "(X_data, X_label) = pickle.load(f)\n",
    "f.close()\n",
    "\n",
    "#Read test data\n",
    "f = open(os.path.join(cwd, r'testing.pkl'), 'rb')\n",
    "(Y_data, Y_label) = pickle.load(f)\n",
    "f.close()"
   ]
  },
  {
   "cell_type": "code",
   "execution_count": 3,
   "id": "4a70f29e",
   "metadata": {},
   "outputs": [],
   "source": [
    "train = []\n",
    "trainLabel = []\n",
    "\n",
    "label2no = {u'support':0, u'query':1, u'deny':2, u'comment':3}\n",
    "\n",
    "#Convert list of lists to nd array (Required for SVM Training)\n",
    "for key in X_label.keys():\n",
    "    train.append(X_data[key])\n",
    "    trainLabel.append(label2no[X_label[key]])\n",
    "\n",
    "train = np.array(train)\n",
    "trainLabel = np.array(trainLabel)\n",
    "#SVM Training\n",
    "svm_clf = svm(loss='squared_hinge', max_iter=1000).fit(train, trainLabel.transpose())\n",
    "\n",
    "test = []\n",
    "testLabel = []\n",
    "\n",
    "for key in Y_label.keys():\n",
    "    test.append(Y_data[key])\n",
    "    testLabel.append(label2no[Y_label[key]])\n",
    "\n",
    "test = np.array(test)\n",
    "testLabel = np.array(testLabel)"
   ]
  },
  {
   "cell_type": "code",
   "execution_count": 4,
   "id": "b482d35d",
   "metadata": {
    "scrolled": true
   },
   "outputs": [
    {
     "name": "stdout",
     "output_type": "stream",
     "text": [
      "\n",
      "SVM Classifier Report\n",
      "\n",
      "Classification accuracy:  0.6034318398474738\n",
      "Confusion matrix:  [[ 44   6   0  44]\n",
      " [ 31  47   1  27]\n",
      " [  5   8   0  58]\n",
      " [174  62   0 542]]\n",
      "              precision    recall  f1-score   support\n",
      "\n",
      "     support       0.17      0.47      0.25        94\n",
      "       query       0.38      0.44      0.41       106\n",
      "        deny       0.00      0.00      0.00        71\n",
      "     comment       0.81      0.70      0.75       778\n",
      "\n",
      "    accuracy                           0.60      1049\n",
      "   macro avg       0.34      0.40      0.35      1049\n",
      "weighted avg       0.65      0.60      0.62      1049\n",
      "\n"
     ]
    }
   ],
   "source": [
    "#SVM Testing\n",
    "print(\"\\nSVM Classifier Report\\n\")\n",
    "predicted = svm_clf.predict(test)\n",
    "print(\"Classification accuracy: \", accuracy_score(testLabel, predicted))\n",
    "print(\"Confusion matrix: \", confusion_matrix(testLabel, predicted))\n",
    "target_names = ['support', 'query', 'deny', 'comment']\n",
    "print(classification_report(testLabel, predicted, target_names=target_names))"
   ]
  }
 ],
 "metadata": {
  "kernelspec": {
   "display_name": "Python 3",
   "language": "python",
   "name": "python3"
  },
  "language_info": {
   "codemirror_mode": {
    "name": "ipython",
    "version": 3
   },
   "file_extension": ".py",
   "mimetype": "text/x-python",
   "name": "python",
   "nbconvert_exporter": "python",
   "pygments_lexer": "ipython3",
   "version": "3.8.8"
  }
 },
 "nbformat": 4,
 "nbformat_minor": 5
}
