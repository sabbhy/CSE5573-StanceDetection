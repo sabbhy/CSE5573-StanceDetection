{
 "cells": [
  {
   "cell_type": "code",
   "execution_count": 1,
   "id": "cde7e5f4",
   "metadata": {},
   "outputs": [],
   "source": [
    "import os, sys\n",
    "import pickle\n",
    "import json\n",
    "from sklearn.linear_model import SGDClassifier as svm\n",
    "import numpy as np\n",
    "from sklearn.metrics import confusion_matrix\n",
    "from sklearn.metrics import precision_recall_fscore_support\n",
    "from sklearn.metrics import classification_report, accuracy_score, confusion_matrix"
   ]
  },
  {
   "cell_type": "code",
   "execution_count": 2,
   "id": "ab64439e",
   "metadata": {},
   "outputs": [],
   "source": [
    "cwd = os.getcwd()\n",
    "\n",
    "#Read training data\n",
    "f = open(os.path.join(cwd, r'training.pkl'), 'rb')\n",
    "(X_data, X_label) = pickle.load(f)\n",
    "f.close()\n",
    "\n",
    "#Read test data\n",
    "f = open(os.path.join(cwd, r'testing.pkl'), 'rb')\n",
    "(Y_data, Y_label) = pickle.load(f)\n",
    "f.close()"
   ]
  },
  {
   "cell_type": "code",
   "execution_count": 3,
   "id": "4a70f29e",
   "metadata": {},
   "outputs": [],
   "source": [
    "train = []\n",
    "trainLabel = []\n",
    "\n",
    "label2no = {u'support':0, u'query':1, u'deny':2, u'comment':3}\n",
    "\n",
    "#Convert list of lists to nd array (Required for SVM Training)\n",
    "for key in X_label.keys():\n",
    "    train.append(X_data[key])\n",
    "    trainLabel.append(label2no[X_label[key]])\n",
    "\n",
    "train = np.array(train)\n",
    "trainLabel = np.array(trainLabel)\n",
    "#SVM Training\n",
    "svm_clf = svm(loss='squared_hinge', max_iter=1000).fit(train, trainLabel.transpose())\n",
    "\n",
    "test = []\n",
    "testLabel = []\n",
    "\n",
    "for key in Y_label.keys():\n",
    "    test.append(Y_data[key])\n",
    "    testLabel.append(label2no[Y_label[key]])\n",
    "\n",
    "test = np.array(test)\n",
    "testLabel = np.array(testLabel)"
   ]
  },
  {
   "cell_type": "code",
   "execution_count": 4,
   "id": "b482d35d",
   "metadata": {
    "scrolled": true
   },
   "outputs": [
    {
     "name": "stdout",
     "output_type": "stream",
     "text": [
      "\n",
      "SVM Classifier Report\n",
      "\n",
      "Classification accuracy:  0.6873212583412774\n",
      "Confusion matrix:  [[ 23   0  11  60]\n",
      " [  0   1  29  76]\n",
      " [  1   0   7  63]\n",
      " [ 10   0  78 690]]\n",
      "              precision    recall  f1-score   support\n",
      "\n",
      "     support       0.68      0.24      0.36        94\n",
      "       query       1.00      0.01      0.02       106\n",
      "        deny       0.06      0.10      0.07        71\n",
      "     comment       0.78      0.89      0.83       778\n",
      "\n",
      "    accuracy                           0.69      1049\n",
      "   macro avg       0.63      0.31      0.32      1049\n",
      "weighted avg       0.74      0.69      0.65      1049\n",
      "\n"
     ]
    }
   ],
   "source": [
    "#SVM Testing\n",
    "print(\"\\nSVM Classifier Report\\n\")\n",
    "predicted = svm_clf.predict(test)\n",
    "print(\"Classification accuracy: \", accuracy_score(testLabel, predicted))\n",
    "print(\"Confusion matrix: \", confusion_matrix(testLabel, predicted))\n",
    "target_names = ['support', 'query', 'deny', 'comment']\n",
    "print(classification_report(testLabel, predicted, target_names=target_names))"
   ]
  }
 ],
 "metadata": {
  "kernelspec": {
   "display_name": "Python 3",
   "language": "python",
   "name": "python3"
  },
  "language_info": {
   "codemirror_mode": {
    "name": "ipython",
    "version": 3
   },
   "file_extension": ".py",
   "mimetype": "text/x-python",
   "name": "python",
   "nbconvert_exporter": "python",
   "pygments_lexer": "ipython3",
   "version": "3.8.8"
  }
 },
 "nbformat": 4,
 "nbformat_minor": 5
}
